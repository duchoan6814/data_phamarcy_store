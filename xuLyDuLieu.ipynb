{
 "metadata": {
  "language_info": {
   "codemirror_mode": {
    "name": "ipython",
    "version": 3
   },
   "file_extension": ".py",
   "mimetype": "text/x-python",
   "name": "python",
   "nbconvert_exporter": "python",
   "pygments_lexer": "ipython3",
   "version": "3.8.5-final"
  },
  "orig_nbformat": 2,
  "kernelspec": {
   "name": "Python 3.8.5 64-bit",
   "display_name": "Python 3.8.5 64-bit",
   "metadata": {
    "interpreter": {
     "hash": "31f2aee4e71d21fbe5cf8b01ff0e069b9275f58929596ceb00d14d90e3e16cd6"
    }
   }
  }
 },
 "nbformat": 4,
 "nbformat_minor": 2,
 "cells": [
  {
   "cell_type": "code",
   "execution_count": 2,
   "metadata": {},
   "outputs": [],
   "source": [
    "import pandas as pd\n",
    "import numpy as np"
   ]
  },
  {
   "cell_type": "code",
   "execution_count": 3,
   "metadata": {},
   "outputs": [],
   "source": [
    "data = pd.read_json(r'/home/hoantruong/Documents/CrawDataThuoc/listThuoc.json')"
   ]
  },
  {
   "cell_type": "code",
   "execution_count": 3,
   "metadata": {},
   "outputs": [
    {
     "output_type": "execute_result",
     "data": {
      "text/plain": [
       "     DonViTinh     Gia              TenThuoc      ThuocId  \\\n",
       "0         Viên     590               Casoran  VD-23889-15   \n",
       "1         Viên     950                   ATP  VD-27208-17   \n",
       "2          Gói   1,800         Acefalgan 250  VD-25673-16   \n",
       "3         Viên     435           Acepron 650  VD-22822-15   \n",
       "4         Viên   1,365        Acepron Codein  VD-20681-14   \n",
       "...        ...     ...                   ...          ...   \n",
       "1082      Viên  11,000              Levojack  VN-19624-16   \n",
       "1083      Viên   9,700           Levoleo 500  VD-20142-13   \n",
       "1084       Ống  12,500     Levomels Infusion  VN-16871-13   \n",
       "1085       Ống  42,000     Levomels Infusion  VN-16872-13   \n",
       "1086      Viên   1,000  Levomepromazin 25 mg  VD-24685-16   \n",
       "\n",
       "                                                   MoTa  HanSuDung  \\\n",
       "0     Cao hoa hòe (3:1)\\n  -  \\n160mg\\nCao dừa cạn (...         48   \n",
       "1             Dinatri adenosin triphosphat\\n  -  \\n20mg         36   \n",
       "2                             Paracetamol\\n  -  \\n250mg         36   \n",
       "3                            Paracetamol\\n  -  \\n650 mg         36   \n",
       "4     Paracetamol\\n  -  \\n500 mg\\nCodein phosphat he...         36   \n",
       "...                                                 ...        ...   \n",
       "1082  Levofloxacin (dưới dạng Levofloxacin hemihydra...         24   \n",
       "1083  Levofloxacin (dưới dạng Levofloxacin hemihydra...         48   \n",
       "1084          L-Ornithine-L-Aspartate\\n  -  \\n500mg/5ml         60   \n",
       "1085            L-Ornithine-L-Aspartate\\n  -  \\n5g/10ml         60   \n",
       "1086                        Levomepromazin\\n  -  \\n25mg         36   \n",
       "\n",
       "                            DangBaoChe  \\\n",
       "0                            Thuốc cốm   \n",
       "1     Viên nén bao phim tan trong ruột   \n",
       "2                          Cốm sủi bọt   \n",
       "3                             Viên nén   \n",
       "4                    Viên nén bao phim   \n",
       "...                                ...   \n",
       "1082                 Viên nén bao phim   \n",
       "1083             Viên nén dài bao phim   \n",
       "1084                 Thuốc tiêm truyền   \n",
       "1085                 Thuốc tiêm truyền   \n",
       "1086                Viên nén bao đường   \n",
       "\n",
       "                                         QuyCachDongGoi  \\\n",
       "0                                   Hộp 10 gói x 3g cốm   \n",
       "1                                   Hộp 10 vỉ x 10 viên   \n",
       "2                                  Hộp 20 gói x 1,5 gam   \n",
       "3     Hộp 10 vỉ x 10 viên. Hộp 25 vỉ x 4 viên. Chai ...   \n",
       "4                    Hộp 10 vỉ x 10 viên; Chai 100 viên   \n",
       "...                                                 ...   \n",
       "1082                                 Hộp 3 vỉ x 10 viên   \n",
       "1083  Hộp 1 vỉ x 5 viên; Hộp 1 vỉ x 10 viên (vỉ nhôm...   \n",
       "1084                                     Hộp 10 ống 5ml   \n",
       "1085                                    Hộp 10 ống 10ml   \n",
       "1086            Hộp 1 lọ x 100 viên; Hộp 5 vỉ x 20 viên   \n",
       "\n",
       "                                          TenNhaCungCap  \\\n",
       "0                Công ty cổ phần công nghệ cao Traphaco   \n",
       "1                   Công ty cổ phần dược TW Mediplantex   \n",
       "2     Công ty cổ phần Dược phẩm Euvipharm - Thành vi...   \n",
       "3                    Công ty cổ phần dược phẩm Cửu Long   \n",
       "4                    Công ty cổ phần dược phẩm Cửu Long   \n",
       "...                                                 ...   \n",
       "1082                  Health Care Formulations Pvt. Ltd   \n",
       "1083                          Công ty Cổ phần BV Pharma   \n",
       "1084                          Myung-In Pharm. Co., Ltd.   \n",
       "1085                          Myung-In Pharm. Co., Ltd.   \n",
       "1086                       Công ty cổ phần dược Danapha   \n",
       "\n",
       "                                                 DiaChi  \n",
       "0            Xã Tân Quang, huyện Văn Lâm, tỉnh Hưng Yên  \n",
       "1     Nhà máy dược phẩm số 2: Trung Hậu, Tiền Phong,...  \n",
       "2       ấp Bình Tiền 2, xã Đức Hoà hạ, Đức Hoà, Long An  \n",
       "3     Số 150 đường 14 tháng 9, TP. Vĩnh Long, tỉnh V...  \n",
       "4     Số 150 đường 14 tháng 9, TP. Vĩnh Long, tỉnh V...  \n",
       "...                                                 ...  \n",
       "1082  C/8 Sardar Estate, Ajwa Road, Baroda-390 019, ...  \n",
       "1083  Ấp 2, Xã Tân Thạnh Tây-Huyện Củ Chi-Thành phố ...  \n",
       "1084  186-1 Noha-Ri, Paltan-Myun, Hwasung-si, Gyeong...  \n",
       "1085  186-1 Noha-Ri, Paltan-Myun, Hwasung-si, Gyeong...  \n",
       "1086                 253 Dũng Sĩ Thanh Khê, tp. Đà Nẵng  \n",
       "\n",
       "[1087 rows x 10 columns]"
      ],
      "text/html": "<div>\n<style scoped>\n    .dataframe tbody tr th:only-of-type {\n        vertical-align: middle;\n    }\n\n    .dataframe tbody tr th {\n        vertical-align: top;\n    }\n\n    .dataframe thead th {\n        text-align: right;\n    }\n</style>\n<table border=\"1\" class=\"dataframe\">\n  <thead>\n    <tr style=\"text-align: right;\">\n      <th></th>\n      <th>DonViTinh</th>\n      <th>Gia</th>\n      <th>TenThuoc</th>\n      <th>ThuocId</th>\n      <th>MoTa</th>\n      <th>HanSuDung</th>\n      <th>DangBaoChe</th>\n      <th>QuyCachDongGoi</th>\n      <th>TenNhaCungCap</th>\n      <th>DiaChi</th>\n    </tr>\n  </thead>\n  <tbody>\n    <tr>\n      <th>0</th>\n      <td>Viên</td>\n      <td>590</td>\n      <td>Casoran</td>\n      <td>VD-23889-15</td>\n      <td>Cao hoa hòe (3:1)\\n  -  \\n160mg\\nCao dừa cạn (...</td>\n      <td>48</td>\n      <td>Thuốc cốm</td>\n      <td>Hộp 10 gói x 3g cốm</td>\n      <td>Công ty cổ phần công nghệ cao Traphaco</td>\n      <td>Xã Tân Quang, huyện Văn Lâm, tỉnh Hưng Yên</td>\n    </tr>\n    <tr>\n      <th>1</th>\n      <td>Viên</td>\n      <td>950</td>\n      <td>ATP</td>\n      <td>VD-27208-17</td>\n      <td>Dinatri adenosin triphosphat\\n  -  \\n20mg</td>\n      <td>36</td>\n      <td>Viên nén bao phim tan trong ruột</td>\n      <td>Hộp 10 vỉ x 10 viên</td>\n      <td>Công ty cổ phần dược TW Mediplantex</td>\n      <td>Nhà máy dược phẩm số 2: Trung Hậu, Tiền Phong,...</td>\n    </tr>\n    <tr>\n      <th>2</th>\n      <td>Gói</td>\n      <td>1,800</td>\n      <td>Acefalgan 250</td>\n      <td>VD-25673-16</td>\n      <td>Paracetamol\\n  -  \\n250mg</td>\n      <td>36</td>\n      <td>Cốm sủi bọt</td>\n      <td>Hộp 20 gói x 1,5 gam</td>\n      <td>Công ty cổ phần Dược phẩm Euvipharm - Thành vi...</td>\n      <td>ấp Bình Tiền 2, xã Đức Hoà hạ, Đức Hoà, Long An</td>\n    </tr>\n    <tr>\n      <th>3</th>\n      <td>Viên</td>\n      <td>435</td>\n      <td>Acepron 650</td>\n      <td>VD-22822-15</td>\n      <td>Paracetamol\\n  -  \\n650 mg</td>\n      <td>36</td>\n      <td>Viên nén</td>\n      <td>Hộp 10 vỉ x 10 viên. Hộp 25 vỉ x 4 viên. Chai ...</td>\n      <td>Công ty cổ phần dược phẩm Cửu Long</td>\n      <td>Số 150 đường 14 tháng 9, TP. Vĩnh Long, tỉnh V...</td>\n    </tr>\n    <tr>\n      <th>4</th>\n      <td>Viên</td>\n      <td>1,365</td>\n      <td>Acepron Codein</td>\n      <td>VD-20681-14</td>\n      <td>Paracetamol\\n  -  \\n500 mg\\nCodein phosphat he...</td>\n      <td>36</td>\n      <td>Viên nén bao phim</td>\n      <td>Hộp 10 vỉ x 10 viên; Chai 100 viên</td>\n      <td>Công ty cổ phần dược phẩm Cửu Long</td>\n      <td>Số 150 đường 14 tháng 9, TP. Vĩnh Long, tỉnh V...</td>\n    </tr>\n    <tr>\n      <th>...</th>\n      <td>...</td>\n      <td>...</td>\n      <td>...</td>\n      <td>...</td>\n      <td>...</td>\n      <td>...</td>\n      <td>...</td>\n      <td>...</td>\n      <td>...</td>\n      <td>...</td>\n    </tr>\n    <tr>\n      <th>1082</th>\n      <td>Viên</td>\n      <td>11,000</td>\n      <td>Levojack</td>\n      <td>VN-19624-16</td>\n      <td>Levofloxacin (dưới dạng Levofloxacin hemihydra...</td>\n      <td>24</td>\n      <td>Viên nén bao phim</td>\n      <td>Hộp 3 vỉ x 10 viên</td>\n      <td>Health Care Formulations Pvt. Ltd</td>\n      <td>C/8 Sardar Estate, Ajwa Road, Baroda-390 019, ...</td>\n    </tr>\n    <tr>\n      <th>1083</th>\n      <td>Viên</td>\n      <td>9,700</td>\n      <td>Levoleo 500</td>\n      <td>VD-20142-13</td>\n      <td>Levofloxacin (dưới dạng Levofloxacin hemihydra...</td>\n      <td>48</td>\n      <td>Viên nén dài bao phim</td>\n      <td>Hộp 1 vỉ x 5 viên; Hộp 1 vỉ x 10 viên (vỉ nhôm...</td>\n      <td>Công ty Cổ phần BV Pharma</td>\n      <td>Ấp 2, Xã Tân Thạnh Tây-Huyện Củ Chi-Thành phố ...</td>\n    </tr>\n    <tr>\n      <th>1084</th>\n      <td>Ống</td>\n      <td>12,500</td>\n      <td>Levomels Infusion</td>\n      <td>VN-16871-13</td>\n      <td>L-Ornithine-L-Aspartate\\n  -  \\n500mg/5ml</td>\n      <td>60</td>\n      <td>Thuốc tiêm truyền</td>\n      <td>Hộp 10 ống 5ml</td>\n      <td>Myung-In Pharm. Co., Ltd.</td>\n      <td>186-1 Noha-Ri, Paltan-Myun, Hwasung-si, Gyeong...</td>\n    </tr>\n    <tr>\n      <th>1085</th>\n      <td>Ống</td>\n      <td>42,000</td>\n      <td>Levomels Infusion</td>\n      <td>VN-16872-13</td>\n      <td>L-Ornithine-L-Aspartate\\n  -  \\n5g/10ml</td>\n      <td>60</td>\n      <td>Thuốc tiêm truyền</td>\n      <td>Hộp 10 ống 10ml</td>\n      <td>Myung-In Pharm. Co., Ltd.</td>\n      <td>186-1 Noha-Ri, Paltan-Myun, Hwasung-si, Gyeong...</td>\n    </tr>\n    <tr>\n      <th>1086</th>\n      <td>Viên</td>\n      <td>1,000</td>\n      <td>Levomepromazin 25 mg</td>\n      <td>VD-24685-16</td>\n      <td>Levomepromazin\\n  -  \\n25mg</td>\n      <td>36</td>\n      <td>Viên nén bao đường</td>\n      <td>Hộp 1 lọ x 100 viên; Hộp 5 vỉ x 20 viên</td>\n      <td>Công ty cổ phần dược Danapha</td>\n      <td>253 Dũng Sĩ Thanh Khê, tp. Đà Nẵng</td>\n    </tr>\n  </tbody>\n</table>\n<p>1087 rows × 10 columns</p>\n</div>"
     },
     "metadata": {},
     "execution_count": 3
    }
   ],
   "source": [
    "data"
   ]
  },
  {
   "cell_type": "code",
   "execution_count": 4,
   "metadata": {},
   "outputs": [],
   "source": [
    "def suLyGia(gia):\n",
    "    try:\n",
    "        return int(''.join(gia.split(',')))\n",
    "    except:\n",
    "        return -1\n",
    "            \n",
    "        "
   ]
  },
  {
   "cell_type": "code",
   "execution_count": 5,
   "metadata": {},
   "outputs": [],
   "source": [
    "for i in range(len(data)):\n",
    "    x = suLyGia(str(data.at[i, 'Gia']))\n",
    "    if(x == -1):\n",
    "        data.drop(index=i)\n",
    "    else:\n",
    "        data.at[i, 'Gia1'] = suLyGia(str(data.at[i, 'Gia']))"
   ]
  },
  {
   "cell_type": "code",
   "execution_count": 6,
   "metadata": {},
   "outputs": [
    {
     "output_type": "execute_result",
     "data": {
      "text/plain": [
       "     DonViTinh     Gia              TenThuoc      ThuocId  \\\n",
       "0         Viên     590               Casoran  VD-23889-15   \n",
       "1         Viên     950                   ATP  VD-27208-17   \n",
       "2          Gói   1,800         Acefalgan 250  VD-25673-16   \n",
       "3         Viên     435           Acepron 650  VD-22822-15   \n",
       "4         Viên   1,365        Acepron Codein  VD-20681-14   \n",
       "...        ...     ...                   ...          ...   \n",
       "1082      Viên  11,000              Levojack  VN-19624-16   \n",
       "1083      Viên   9,700           Levoleo 500  VD-20142-13   \n",
       "1084       Ống  12,500     Levomels Infusion  VN-16871-13   \n",
       "1085       Ống  42,000     Levomels Infusion  VN-16872-13   \n",
       "1086      Viên   1,000  Levomepromazin 25 mg  VD-24685-16   \n",
       "\n",
       "                                                   MoTa  HanSuDung  \\\n",
       "0     Cao hoa hòe (3:1)\\n  -  \\n160mg\\nCao dừa cạn (...         48   \n",
       "1             Dinatri adenosin triphosphat\\n  -  \\n20mg         36   \n",
       "2                             Paracetamol\\n  -  \\n250mg         36   \n",
       "3                            Paracetamol\\n  -  \\n650 mg         36   \n",
       "4     Paracetamol\\n  -  \\n500 mg\\nCodein phosphat he...         36   \n",
       "...                                                 ...        ...   \n",
       "1082  Levofloxacin (dưới dạng Levofloxacin hemihydra...         24   \n",
       "1083  Levofloxacin (dưới dạng Levofloxacin hemihydra...         48   \n",
       "1084          L-Ornithine-L-Aspartate\\n  -  \\n500mg/5ml         60   \n",
       "1085            L-Ornithine-L-Aspartate\\n  -  \\n5g/10ml         60   \n",
       "1086                        Levomepromazin\\n  -  \\n25mg         36   \n",
       "\n",
       "                            DangBaoChe  \\\n",
       "0                            Thuốc cốm   \n",
       "1     Viên nén bao phim tan trong ruột   \n",
       "2                          Cốm sủi bọt   \n",
       "3                             Viên nén   \n",
       "4                    Viên nén bao phim   \n",
       "...                                ...   \n",
       "1082                 Viên nén bao phim   \n",
       "1083             Viên nén dài bao phim   \n",
       "1084                 Thuốc tiêm truyền   \n",
       "1085                 Thuốc tiêm truyền   \n",
       "1086                Viên nén bao đường   \n",
       "\n",
       "                                         QuyCachDongGoi  \\\n",
       "0                                   Hộp 10 gói x 3g cốm   \n",
       "1                                   Hộp 10 vỉ x 10 viên   \n",
       "2                                  Hộp 20 gói x 1,5 gam   \n",
       "3     Hộp 10 vỉ x 10 viên. Hộp 25 vỉ x 4 viên. Chai ...   \n",
       "4                    Hộp 10 vỉ x 10 viên; Chai 100 viên   \n",
       "...                                                 ...   \n",
       "1082                                 Hộp 3 vỉ x 10 viên   \n",
       "1083  Hộp 1 vỉ x 5 viên; Hộp 1 vỉ x 10 viên (vỉ nhôm...   \n",
       "1084                                     Hộp 10 ống 5ml   \n",
       "1085                                    Hộp 10 ống 10ml   \n",
       "1086            Hộp 1 lọ x 100 viên; Hộp 5 vỉ x 20 viên   \n",
       "\n",
       "                                          TenNhaCungCap  \\\n",
       "0                Công ty cổ phần công nghệ cao Traphaco   \n",
       "1                   Công ty cổ phần dược TW Mediplantex   \n",
       "2     Công ty cổ phần Dược phẩm Euvipharm - Thành vi...   \n",
       "3                    Công ty cổ phần dược phẩm Cửu Long   \n",
       "4                    Công ty cổ phần dược phẩm Cửu Long   \n",
       "...                                                 ...   \n",
       "1082                  Health Care Formulations Pvt. Ltd   \n",
       "1083                          Công ty Cổ phần BV Pharma   \n",
       "1084                          Myung-In Pharm. Co., Ltd.   \n",
       "1085                          Myung-In Pharm. Co., Ltd.   \n",
       "1086                       Công ty cổ phần dược Danapha   \n",
       "\n",
       "                                                 DiaChi     Gia1  \n",
       "0            Xã Tân Quang, huyện Văn Lâm, tỉnh Hưng Yên    590.0  \n",
       "1     Nhà máy dược phẩm số 2: Trung Hậu, Tiền Phong,...    950.0  \n",
       "2       ấp Bình Tiền 2, xã Đức Hoà hạ, Đức Hoà, Long An   1800.0  \n",
       "3     Số 150 đường 14 tháng 9, TP. Vĩnh Long, tỉnh V...    435.0  \n",
       "4     Số 150 đường 14 tháng 9, TP. Vĩnh Long, tỉnh V...   1365.0  \n",
       "...                                                 ...      ...  \n",
       "1082  C/8 Sardar Estate, Ajwa Road, Baroda-390 019, ...  11000.0  \n",
       "1083  Ấp 2, Xã Tân Thạnh Tây-Huyện Củ Chi-Thành phố ...   9700.0  \n",
       "1084  186-1 Noha-Ri, Paltan-Myun, Hwasung-si, Gyeong...  12500.0  \n",
       "1085  186-1 Noha-Ri, Paltan-Myun, Hwasung-si, Gyeong...  42000.0  \n",
       "1086                 253 Dũng Sĩ Thanh Khê, tp. Đà Nẵng   1000.0  \n",
       "\n",
       "[1087 rows x 11 columns]"
      ],
      "text/html": "<div>\n<style scoped>\n    .dataframe tbody tr th:only-of-type {\n        vertical-align: middle;\n    }\n\n    .dataframe tbody tr th {\n        vertical-align: top;\n    }\n\n    .dataframe thead th {\n        text-align: right;\n    }\n</style>\n<table border=\"1\" class=\"dataframe\">\n  <thead>\n    <tr style=\"text-align: right;\">\n      <th></th>\n      <th>DonViTinh</th>\n      <th>Gia</th>\n      <th>TenThuoc</th>\n      <th>ThuocId</th>\n      <th>MoTa</th>\n      <th>HanSuDung</th>\n      <th>DangBaoChe</th>\n      <th>QuyCachDongGoi</th>\n      <th>TenNhaCungCap</th>\n      <th>DiaChi</th>\n      <th>Gia1</th>\n    </tr>\n  </thead>\n  <tbody>\n    <tr>\n      <th>0</th>\n      <td>Viên</td>\n      <td>590</td>\n      <td>Casoran</td>\n      <td>VD-23889-15</td>\n      <td>Cao hoa hòe (3:1)\\n  -  \\n160mg\\nCao dừa cạn (...</td>\n      <td>48</td>\n      <td>Thuốc cốm</td>\n      <td>Hộp 10 gói x 3g cốm</td>\n      <td>Công ty cổ phần công nghệ cao Traphaco</td>\n      <td>Xã Tân Quang, huyện Văn Lâm, tỉnh Hưng Yên</td>\n      <td>590.0</td>\n    </tr>\n    <tr>\n      <th>1</th>\n      <td>Viên</td>\n      <td>950</td>\n      <td>ATP</td>\n      <td>VD-27208-17</td>\n      <td>Dinatri adenosin triphosphat\\n  -  \\n20mg</td>\n      <td>36</td>\n      <td>Viên nén bao phim tan trong ruột</td>\n      <td>Hộp 10 vỉ x 10 viên</td>\n      <td>Công ty cổ phần dược TW Mediplantex</td>\n      <td>Nhà máy dược phẩm số 2: Trung Hậu, Tiền Phong,...</td>\n      <td>950.0</td>\n    </tr>\n    <tr>\n      <th>2</th>\n      <td>Gói</td>\n      <td>1,800</td>\n      <td>Acefalgan 250</td>\n      <td>VD-25673-16</td>\n      <td>Paracetamol\\n  -  \\n250mg</td>\n      <td>36</td>\n      <td>Cốm sủi bọt</td>\n      <td>Hộp 20 gói x 1,5 gam</td>\n      <td>Công ty cổ phần Dược phẩm Euvipharm - Thành vi...</td>\n      <td>ấp Bình Tiền 2, xã Đức Hoà hạ, Đức Hoà, Long An</td>\n      <td>1800.0</td>\n    </tr>\n    <tr>\n      <th>3</th>\n      <td>Viên</td>\n      <td>435</td>\n      <td>Acepron 650</td>\n      <td>VD-22822-15</td>\n      <td>Paracetamol\\n  -  \\n650 mg</td>\n      <td>36</td>\n      <td>Viên nén</td>\n      <td>Hộp 10 vỉ x 10 viên. Hộp 25 vỉ x 4 viên. Chai ...</td>\n      <td>Công ty cổ phần dược phẩm Cửu Long</td>\n      <td>Số 150 đường 14 tháng 9, TP. Vĩnh Long, tỉnh V...</td>\n      <td>435.0</td>\n    </tr>\n    <tr>\n      <th>4</th>\n      <td>Viên</td>\n      <td>1,365</td>\n      <td>Acepron Codein</td>\n      <td>VD-20681-14</td>\n      <td>Paracetamol\\n  -  \\n500 mg\\nCodein phosphat he...</td>\n      <td>36</td>\n      <td>Viên nén bao phim</td>\n      <td>Hộp 10 vỉ x 10 viên; Chai 100 viên</td>\n      <td>Công ty cổ phần dược phẩm Cửu Long</td>\n      <td>Số 150 đường 14 tháng 9, TP. Vĩnh Long, tỉnh V...</td>\n      <td>1365.0</td>\n    </tr>\n    <tr>\n      <th>...</th>\n      <td>...</td>\n      <td>...</td>\n      <td>...</td>\n      <td>...</td>\n      <td>...</td>\n      <td>...</td>\n      <td>...</td>\n      <td>...</td>\n      <td>...</td>\n      <td>...</td>\n      <td>...</td>\n    </tr>\n    <tr>\n      <th>1082</th>\n      <td>Viên</td>\n      <td>11,000</td>\n      <td>Levojack</td>\n      <td>VN-19624-16</td>\n      <td>Levofloxacin (dưới dạng Levofloxacin hemihydra...</td>\n      <td>24</td>\n      <td>Viên nén bao phim</td>\n      <td>Hộp 3 vỉ x 10 viên</td>\n      <td>Health Care Formulations Pvt. Ltd</td>\n      <td>C/8 Sardar Estate, Ajwa Road, Baroda-390 019, ...</td>\n      <td>11000.0</td>\n    </tr>\n    <tr>\n      <th>1083</th>\n      <td>Viên</td>\n      <td>9,700</td>\n      <td>Levoleo 500</td>\n      <td>VD-20142-13</td>\n      <td>Levofloxacin (dưới dạng Levofloxacin hemihydra...</td>\n      <td>48</td>\n      <td>Viên nén dài bao phim</td>\n      <td>Hộp 1 vỉ x 5 viên; Hộp 1 vỉ x 10 viên (vỉ nhôm...</td>\n      <td>Công ty Cổ phần BV Pharma</td>\n      <td>Ấp 2, Xã Tân Thạnh Tây-Huyện Củ Chi-Thành phố ...</td>\n      <td>9700.0</td>\n    </tr>\n    <tr>\n      <th>1084</th>\n      <td>Ống</td>\n      <td>12,500</td>\n      <td>Levomels Infusion</td>\n      <td>VN-16871-13</td>\n      <td>L-Ornithine-L-Aspartate\\n  -  \\n500mg/5ml</td>\n      <td>60</td>\n      <td>Thuốc tiêm truyền</td>\n      <td>Hộp 10 ống 5ml</td>\n      <td>Myung-In Pharm. Co., Ltd.</td>\n      <td>186-1 Noha-Ri, Paltan-Myun, Hwasung-si, Gyeong...</td>\n      <td>12500.0</td>\n    </tr>\n    <tr>\n      <th>1085</th>\n      <td>Ống</td>\n      <td>42,000</td>\n      <td>Levomels Infusion</td>\n      <td>VN-16872-13</td>\n      <td>L-Ornithine-L-Aspartate\\n  -  \\n5g/10ml</td>\n      <td>60</td>\n      <td>Thuốc tiêm truyền</td>\n      <td>Hộp 10 ống 10ml</td>\n      <td>Myung-In Pharm. Co., Ltd.</td>\n      <td>186-1 Noha-Ri, Paltan-Myun, Hwasung-si, Gyeong...</td>\n      <td>42000.0</td>\n    </tr>\n    <tr>\n      <th>1086</th>\n      <td>Viên</td>\n      <td>1,000</td>\n      <td>Levomepromazin 25 mg</td>\n      <td>VD-24685-16</td>\n      <td>Levomepromazin\\n  -  \\n25mg</td>\n      <td>36</td>\n      <td>Viên nén bao đường</td>\n      <td>Hộp 1 lọ x 100 viên; Hộp 5 vỉ x 20 viên</td>\n      <td>Công ty cổ phần dược Danapha</td>\n      <td>253 Dũng Sĩ Thanh Khê, tp. Đà Nẵng</td>\n      <td>1000.0</td>\n    </tr>\n  </tbody>\n</table>\n<p>1087 rows × 11 columns</p>\n</div>"
     },
     "metadata": {},
     "execution_count": 6
    }
   ],
   "source": [
    "data"
   ]
  },
  {
   "cell_type": "code",
   "execution_count": 53,
   "metadata": {},
   "outputs": [],
   "source": [
    "data = data.drop('Gia', 1)"
   ]
  },
  {
   "cell_type": "code",
   "execution_count": 54,
   "metadata": {},
   "outputs": [
    {
     "output_type": "execute_result",
     "data": {
      "text/plain": [
       "     DonViTinh              TenThuoc      ThuocId  \\\n",
       "0         Viên               Casoran  VD-23889-15   \n",
       "1         Viên                   ATP  VD-27208-17   \n",
       "2          Gói         Acefalgan 250  VD-25673-16   \n",
       "3         Viên           Acepron 650  VD-22822-15   \n",
       "4         Viên        Acepron Codein  VD-20681-14   \n",
       "...        ...                   ...          ...   \n",
       "1082      Viên              Levojack  VN-19624-16   \n",
       "1083      Viên           Levoleo 500  VD-20142-13   \n",
       "1084       Ống     Levomels Infusion  VN-16871-13   \n",
       "1085       Ống     Levomels Infusion  VN-16872-13   \n",
       "1086      Viên  Levomepromazin 25 mg  VD-24685-16   \n",
       "\n",
       "                                                   MoTa  HanSuDung  \\\n",
       "0     Cao hoa hòe (3:1)\\n  -  \\n160mg\\nCao dừa cạn (...         48   \n",
       "1             Dinatri adenosin triphosphat\\n  -  \\n20mg         36   \n",
       "2                             Paracetamol\\n  -  \\n250mg         36   \n",
       "3                            Paracetamol\\n  -  \\n650 mg         36   \n",
       "4     Paracetamol\\n  -  \\n500 mg\\nCodein phosphat he...         36   \n",
       "...                                                 ...        ...   \n",
       "1082  Levofloxacin (dưới dạng Levofloxacin hemihydra...         24   \n",
       "1083  Levofloxacin (dưới dạng Levofloxacin hemihydra...         48   \n",
       "1084          L-Ornithine-L-Aspartate\\n  -  \\n500mg/5ml         60   \n",
       "1085            L-Ornithine-L-Aspartate\\n  -  \\n5g/10ml         60   \n",
       "1086                        Levomepromazin\\n  -  \\n25mg         36   \n",
       "\n",
       "                            DangBaoChe  \\\n",
       "0                            Thuốc cốm   \n",
       "1     Viên nén bao phim tan trong ruột   \n",
       "2                          Cốm sủi bọt   \n",
       "3                             Viên nén   \n",
       "4                    Viên nén bao phim   \n",
       "...                                ...   \n",
       "1082                 Viên nén bao phim   \n",
       "1083             Viên nén dài bao phim   \n",
       "1084                 Thuốc tiêm truyền   \n",
       "1085                 Thuốc tiêm truyền   \n",
       "1086                Viên nén bao đường   \n",
       "\n",
       "                                         QuyCachDongGoi  \\\n",
       "0                                   Hộp 10 gói x 3g cốm   \n",
       "1                                   Hộp 10 vỉ x 10 viên   \n",
       "2                                  Hộp 20 gói x 1,5 gam   \n",
       "3     Hộp 10 vỉ x 10 viên. Hộp 25 vỉ x 4 viên. Chai ...   \n",
       "4                    Hộp 10 vỉ x 10 viên; Chai 100 viên   \n",
       "...                                                 ...   \n",
       "1082                                 Hộp 3 vỉ x 10 viên   \n",
       "1083  Hộp 1 vỉ x 5 viên; Hộp 1 vỉ x 10 viên (vỉ nhôm...   \n",
       "1084                                     Hộp 10 ống 5ml   \n",
       "1085                                    Hộp 10 ống 10ml   \n",
       "1086            Hộp 1 lọ x 100 viên; Hộp 5 vỉ x 20 viên   \n",
       "\n",
       "                                          TenNhaCungCap  \\\n",
       "0                Công ty cổ phần công nghệ cao Traphaco   \n",
       "1                   Công ty cổ phần dược TW Mediplantex   \n",
       "2     Công ty cổ phần Dược phẩm Euvipharm - Thành vi...   \n",
       "3                    Công ty cổ phần dược phẩm Cửu Long   \n",
       "4                    Công ty cổ phần dược phẩm Cửu Long   \n",
       "...                                                 ...   \n",
       "1082                  Health Care Formulations Pvt. Ltd   \n",
       "1083                          Công ty Cổ phần BV Pharma   \n",
       "1084                          Myung-In Pharm. Co., Ltd.   \n",
       "1085                          Myung-In Pharm. Co., Ltd.   \n",
       "1086                       Công ty cổ phần dược Danapha   \n",
       "\n",
       "                                                 DiaChi     Gia1  \n",
       "0            Xã Tân Quang, huyện Văn Lâm, tỉnh Hưng Yên    590.0  \n",
       "1     Nhà máy dược phẩm số 2: Trung Hậu, Tiền Phong,...    950.0  \n",
       "2       ấp Bình Tiền 2, xã Đức Hoà hạ, Đức Hoà, Long An   1800.0  \n",
       "3     Số 150 đường 14 tháng 9, TP. Vĩnh Long, tỉnh V...    435.0  \n",
       "4     Số 150 đường 14 tháng 9, TP. Vĩnh Long, tỉnh V...   1365.0  \n",
       "...                                                 ...      ...  \n",
       "1082  C/8 Sardar Estate, Ajwa Road, Baroda-390 019, ...  11000.0  \n",
       "1083  Ấp 2, Xã Tân Thạnh Tây-Huyện Củ Chi-Thành phố ...   9700.0  \n",
       "1084  186-1 Noha-Ri, Paltan-Myun, Hwasung-si, Gyeong...  12500.0  \n",
       "1085  186-1 Noha-Ri, Paltan-Myun, Hwasung-si, Gyeong...  42000.0  \n",
       "1086                 253 Dũng Sĩ Thanh Khê, tp. Đà Nẵng   1000.0  \n",
       "\n",
       "[1087 rows x 10 columns]"
      ],
      "text/html": "<div>\n<style scoped>\n    .dataframe tbody tr th:only-of-type {\n        vertical-align: middle;\n    }\n\n    .dataframe tbody tr th {\n        vertical-align: top;\n    }\n\n    .dataframe thead th {\n        text-align: right;\n    }\n</style>\n<table border=\"1\" class=\"dataframe\">\n  <thead>\n    <tr style=\"text-align: right;\">\n      <th></th>\n      <th>DonViTinh</th>\n      <th>TenThuoc</th>\n      <th>ThuocId</th>\n      <th>MoTa</th>\n      <th>HanSuDung</th>\n      <th>DangBaoChe</th>\n      <th>QuyCachDongGoi</th>\n      <th>TenNhaCungCap</th>\n      <th>DiaChi</th>\n      <th>Gia1</th>\n    </tr>\n  </thead>\n  <tbody>\n    <tr>\n      <th>0</th>\n      <td>Viên</td>\n      <td>Casoran</td>\n      <td>VD-23889-15</td>\n      <td>Cao hoa hòe (3:1)\\n  -  \\n160mg\\nCao dừa cạn (...</td>\n      <td>48</td>\n      <td>Thuốc cốm</td>\n      <td>Hộp 10 gói x 3g cốm</td>\n      <td>Công ty cổ phần công nghệ cao Traphaco</td>\n      <td>Xã Tân Quang, huyện Văn Lâm, tỉnh Hưng Yên</td>\n      <td>590.0</td>\n    </tr>\n    <tr>\n      <th>1</th>\n      <td>Viên</td>\n      <td>ATP</td>\n      <td>VD-27208-17</td>\n      <td>Dinatri adenosin triphosphat\\n  -  \\n20mg</td>\n      <td>36</td>\n      <td>Viên nén bao phim tan trong ruột</td>\n      <td>Hộp 10 vỉ x 10 viên</td>\n      <td>Công ty cổ phần dược TW Mediplantex</td>\n      <td>Nhà máy dược phẩm số 2: Trung Hậu, Tiền Phong,...</td>\n      <td>950.0</td>\n    </tr>\n    <tr>\n      <th>2</th>\n      <td>Gói</td>\n      <td>Acefalgan 250</td>\n      <td>VD-25673-16</td>\n      <td>Paracetamol\\n  -  \\n250mg</td>\n      <td>36</td>\n      <td>Cốm sủi bọt</td>\n      <td>Hộp 20 gói x 1,5 gam</td>\n      <td>Công ty cổ phần Dược phẩm Euvipharm - Thành vi...</td>\n      <td>ấp Bình Tiền 2, xã Đức Hoà hạ, Đức Hoà, Long An</td>\n      <td>1800.0</td>\n    </tr>\n    <tr>\n      <th>3</th>\n      <td>Viên</td>\n      <td>Acepron 650</td>\n      <td>VD-22822-15</td>\n      <td>Paracetamol\\n  -  \\n650 mg</td>\n      <td>36</td>\n      <td>Viên nén</td>\n      <td>Hộp 10 vỉ x 10 viên. Hộp 25 vỉ x 4 viên. Chai ...</td>\n      <td>Công ty cổ phần dược phẩm Cửu Long</td>\n      <td>Số 150 đường 14 tháng 9, TP. Vĩnh Long, tỉnh V...</td>\n      <td>435.0</td>\n    </tr>\n    <tr>\n      <th>4</th>\n      <td>Viên</td>\n      <td>Acepron Codein</td>\n      <td>VD-20681-14</td>\n      <td>Paracetamol\\n  -  \\n500 mg\\nCodein phosphat he...</td>\n      <td>36</td>\n      <td>Viên nén bao phim</td>\n      <td>Hộp 10 vỉ x 10 viên; Chai 100 viên</td>\n      <td>Công ty cổ phần dược phẩm Cửu Long</td>\n      <td>Số 150 đường 14 tháng 9, TP. Vĩnh Long, tỉnh V...</td>\n      <td>1365.0</td>\n    </tr>\n    <tr>\n      <th>...</th>\n      <td>...</td>\n      <td>...</td>\n      <td>...</td>\n      <td>...</td>\n      <td>...</td>\n      <td>...</td>\n      <td>...</td>\n      <td>...</td>\n      <td>...</td>\n      <td>...</td>\n    </tr>\n    <tr>\n      <th>1082</th>\n      <td>Viên</td>\n      <td>Levojack</td>\n      <td>VN-19624-16</td>\n      <td>Levofloxacin (dưới dạng Levofloxacin hemihydra...</td>\n      <td>24</td>\n      <td>Viên nén bao phim</td>\n      <td>Hộp 3 vỉ x 10 viên</td>\n      <td>Health Care Formulations Pvt. Ltd</td>\n      <td>C/8 Sardar Estate, Ajwa Road, Baroda-390 019, ...</td>\n      <td>11000.0</td>\n    </tr>\n    <tr>\n      <th>1083</th>\n      <td>Viên</td>\n      <td>Levoleo 500</td>\n      <td>VD-20142-13</td>\n      <td>Levofloxacin (dưới dạng Levofloxacin hemihydra...</td>\n      <td>48</td>\n      <td>Viên nén dài bao phim</td>\n      <td>Hộp 1 vỉ x 5 viên; Hộp 1 vỉ x 10 viên (vỉ nhôm...</td>\n      <td>Công ty Cổ phần BV Pharma</td>\n      <td>Ấp 2, Xã Tân Thạnh Tây-Huyện Củ Chi-Thành phố ...</td>\n      <td>9700.0</td>\n    </tr>\n    <tr>\n      <th>1084</th>\n      <td>Ống</td>\n      <td>Levomels Infusion</td>\n      <td>VN-16871-13</td>\n      <td>L-Ornithine-L-Aspartate\\n  -  \\n500mg/5ml</td>\n      <td>60</td>\n      <td>Thuốc tiêm truyền</td>\n      <td>Hộp 10 ống 5ml</td>\n      <td>Myung-In Pharm. Co., Ltd.</td>\n      <td>186-1 Noha-Ri, Paltan-Myun, Hwasung-si, Gyeong...</td>\n      <td>12500.0</td>\n    </tr>\n    <tr>\n      <th>1085</th>\n      <td>Ống</td>\n      <td>Levomels Infusion</td>\n      <td>VN-16872-13</td>\n      <td>L-Ornithine-L-Aspartate\\n  -  \\n5g/10ml</td>\n      <td>60</td>\n      <td>Thuốc tiêm truyền</td>\n      <td>Hộp 10 ống 10ml</td>\n      <td>Myung-In Pharm. Co., Ltd.</td>\n      <td>186-1 Noha-Ri, Paltan-Myun, Hwasung-si, Gyeong...</td>\n      <td>42000.0</td>\n    </tr>\n    <tr>\n      <th>1086</th>\n      <td>Viên</td>\n      <td>Levomepromazin 25 mg</td>\n      <td>VD-24685-16</td>\n      <td>Levomepromazin\\n  -  \\n25mg</td>\n      <td>36</td>\n      <td>Viên nén bao đường</td>\n      <td>Hộp 1 lọ x 100 viên; Hộp 5 vỉ x 20 viên</td>\n      <td>Công ty cổ phần dược Danapha</td>\n      <td>253 Dũng Sĩ Thanh Khê, tp. Đà Nẵng</td>\n      <td>1000.0</td>\n    </tr>\n  </tbody>\n</table>\n<p>1087 rows × 10 columns</p>\n</div>"
     },
     "metadata": {},
     "execution_count": 54
    }
   ],
   "source": [
    "data"
   ]
  },
  {
   "cell_type": "code",
   "execution_count": 7,
   "metadata": {},
   "outputs": [
    {
     "output_type": "error",
     "ename": "NameError",
     "evalue": "name 'thuocTable' is not defined",
     "traceback": [
      "\u001b[0;31m---------------------------------------------------------------------------\u001b[0m",
      "\u001b[0;31mNameError\u001b[0m                                 Traceback (most recent call last)",
      "\u001b[0;32m<ipython-input-7-26908344e182>\u001b[0m in \u001b[0;36m<module>\u001b[0;34m\u001b[0m\n\u001b[0;32m----> 1\u001b[0;31m \u001b[0mthuocTable\u001b[0m\u001b[0;34m[\u001b[0m\u001b[0;34m'TonKho'\u001b[0m\u001b[0;34m]\u001b[0m \u001b[0;34m=\u001b[0m \u001b[0;36m0\u001b[0m\u001b[0;34m\u001b[0m\u001b[0;34m\u001b[0m\u001b[0m\n\u001b[0m",
      "\u001b[0;31mNameError\u001b[0m: name 'thuocTable' is not defined"
     ]
    }
   ],
   "source": [
    "thuocTable['TonKho'] = 0"
   ]
  },
  {
   "cell_type": "code",
   "execution_count": 63,
   "metadata": {},
   "outputs": [],
   "source": [
    "thuocTable[\"Thue\"] = 0.05"
   ]
  },
  {
   "cell_type": "code",
   "execution_count": 8,
   "metadata": {},
   "outputs": [
    {
     "output_type": "error",
     "ename": "NameError",
     "evalue": "name 'thuocTable' is not defined",
     "traceback": [
      "\u001b[0;31m---------------------------------------------------------------------------\u001b[0m",
      "\u001b[0;31mNameError\u001b[0m                                 Traceback (most recent call last)",
      "\u001b[0;32m<ipython-input-8-def2d64f50c2>\u001b[0m in \u001b[0;36m<module>\u001b[0;34m\u001b[0m\n\u001b[0;32m----> 1\u001b[0;31m \u001b[0mthuocTable\u001b[0m\u001b[0;34m\u001b[0m\u001b[0;34m\u001b[0m\u001b[0m\n\u001b[0m",
      "\u001b[0;31mNameError\u001b[0m: name 'thuocTable' is not defined"
     ]
    }
   ],
   "source": [
    "thuocTable"
   ]
  },
  {
   "cell_type": "code",
   "execution_count": 9,
   "metadata": {},
   "outputs": [],
   "source": [
    "temp = data.groupby('TenNhaCungCap')[\"TenNhaCungCap\"].size()"
   ]
  },
  {
   "source": [
    "nhaCungCap = temp.reset_index(name=\"counst\")"
   ],
   "cell_type": "code",
   "metadata": {},
   "execution_count": 10,
   "outputs": []
  },
  {
   "cell_type": "code",
   "execution_count": 11,
   "metadata": {},
   "outputs": [],
   "source": [
    "for i in range(len(nhaCungCap)):\n",
    "    nhaCungCap.at[i,\"NhaCungCapId\"] = \"NCC\"+str(i)"
   ]
  },
  {
   "cell_type": "code",
   "execution_count": 12,
   "metadata": {},
   "outputs": [
    {
     "output_type": "execute_result",
     "data": {
      "text/plain": [
       "                                         TenNhaCungCap  counst NhaCungCapId\n",
       "0    (Cơ sở nhận gia công): Công ty cổ phần dược ph...       2         NCC0\n",
       "1                                   ACS Dobfar info SA       1         NCC1\n",
       "2                       APC Pharmaceuticals & Chemical       1         NCC2\n",
       "3                              Abbott Biologicals B.V.       2         NCC3\n",
       "4                                           Actavis HF       2         NCC4\n",
       "..                                                 ...     ...          ...\n",
       "375                            Yash Medicare Pvt. Ltd.       1       NCC375\n",
       "376                            Yash Medicare Pvt., Ltd       1       NCC376\n",
       "377                 Yoo Young Pharmaceutical Co., Ltd.       1       NCC377\n",
       "378                                   Yuyu Pharma INC.       1       NCC378\n",
       "379                            krka, d, dl, Novo mesto       1       NCC379\n",
       "\n",
       "[380 rows x 3 columns]"
      ],
      "text/html": "<div>\n<style scoped>\n    .dataframe tbody tr th:only-of-type {\n        vertical-align: middle;\n    }\n\n    .dataframe tbody tr th {\n        vertical-align: top;\n    }\n\n    .dataframe thead th {\n        text-align: right;\n    }\n</style>\n<table border=\"1\" class=\"dataframe\">\n  <thead>\n    <tr style=\"text-align: right;\">\n      <th></th>\n      <th>TenNhaCungCap</th>\n      <th>counst</th>\n      <th>NhaCungCapId</th>\n    </tr>\n  </thead>\n  <tbody>\n    <tr>\n      <th>0</th>\n      <td>(Cơ sở nhận gia công): Công ty cổ phần dược ph...</td>\n      <td>2</td>\n      <td>NCC0</td>\n    </tr>\n    <tr>\n      <th>1</th>\n      <td>ACS Dobfar info SA</td>\n      <td>1</td>\n      <td>NCC1</td>\n    </tr>\n    <tr>\n      <th>2</th>\n      <td>APC Pharmaceuticals &amp; Chemical</td>\n      <td>1</td>\n      <td>NCC2</td>\n    </tr>\n    <tr>\n      <th>3</th>\n      <td>Abbott Biologicals B.V.</td>\n      <td>2</td>\n      <td>NCC3</td>\n    </tr>\n    <tr>\n      <th>4</th>\n      <td>Actavis HF</td>\n      <td>2</td>\n      <td>NCC4</td>\n    </tr>\n    <tr>\n      <th>...</th>\n      <td>...</td>\n      <td>...</td>\n      <td>...</td>\n    </tr>\n    <tr>\n      <th>375</th>\n      <td>Yash Medicare Pvt. Ltd.</td>\n      <td>1</td>\n      <td>NCC375</td>\n    </tr>\n    <tr>\n      <th>376</th>\n      <td>Yash Medicare Pvt., Ltd</td>\n      <td>1</td>\n      <td>NCC376</td>\n    </tr>\n    <tr>\n      <th>377</th>\n      <td>Yoo Young Pharmaceutical Co., Ltd.</td>\n      <td>1</td>\n      <td>NCC377</td>\n    </tr>\n    <tr>\n      <th>378</th>\n      <td>Yuyu Pharma INC.</td>\n      <td>1</td>\n      <td>NCC378</td>\n    </tr>\n    <tr>\n      <th>379</th>\n      <td>krka, d, dl, Novo mesto</td>\n      <td>1</td>\n      <td>NCC379</td>\n    </tr>\n  </tbody>\n</table>\n<p>380 rows × 3 columns</p>\n</div>"
     },
     "metadata": {},
     "execution_count": 12
    }
   ],
   "source": [
    "nhaCungCap"
   ]
  },
  {
   "cell_type": "code",
   "execution_count": 13,
   "metadata": {},
   "outputs": [],
   "source": [
    "data['NhaCungCapId'] = \"\""
   ]
  },
  {
   "cell_type": "code",
   "execution_count": 14,
   "metadata": {},
   "outputs": [],
   "source": [
    "for i in range(len(data)):\n",
    "    for j in range(len(nhaCungCap)):\n",
    "        if(data.at[i, 'TenNhaCungCap'] == nhaCungCap.at[j, 'TenNhaCungCap']):\n",
    "            data.at[i, 'NhaCungCapId'] = nhaCungCap.at[j, 'NhaCungCapId']"
   ]
  },
  {
   "cell_type": "code",
   "execution_count": 15,
   "metadata": {},
   "outputs": [],
   "source": [
    "for i in range(len(data)):\n",
    "    data.at[i, 'LoaiSanPhamId'] = np.random.randint(1, high=10)\n",
    "\n",
    "\n"
   ]
  },
  {
   "cell_type": "code",
   "execution_count": 16,
   "metadata": {},
   "outputs": [
    {
     "output_type": "execute_result",
     "data": {
      "text/plain": [
       "     DonViTinh     Gia              TenThuoc      ThuocId  \\\n",
       "0         Viên     590               Casoran  VD-23889-15   \n",
       "1         Viên     950                   ATP  VD-27208-17   \n",
       "2          Gói   1,800         Acefalgan 250  VD-25673-16   \n",
       "3         Viên     435           Acepron 650  VD-22822-15   \n",
       "4         Viên   1,365        Acepron Codein  VD-20681-14   \n",
       "...        ...     ...                   ...          ...   \n",
       "1082      Viên  11,000              Levojack  VN-19624-16   \n",
       "1083      Viên   9,700           Levoleo 500  VD-20142-13   \n",
       "1084       Ống  12,500     Levomels Infusion  VN-16871-13   \n",
       "1085       Ống  42,000     Levomels Infusion  VN-16872-13   \n",
       "1086      Viên   1,000  Levomepromazin 25 mg  VD-24685-16   \n",
       "\n",
       "                                                   MoTa  HanSuDung  \\\n",
       "0     Cao hoa hòe (3:1)\\n  -  \\n160mg\\nCao dừa cạn (...         48   \n",
       "1             Dinatri adenosin triphosphat\\n  -  \\n20mg         36   \n",
       "2                             Paracetamol\\n  -  \\n250mg         36   \n",
       "3                            Paracetamol\\n  -  \\n650 mg         36   \n",
       "4     Paracetamol\\n  -  \\n500 mg\\nCodein phosphat he...         36   \n",
       "...                                                 ...        ...   \n",
       "1082  Levofloxacin (dưới dạng Levofloxacin hemihydra...         24   \n",
       "1083  Levofloxacin (dưới dạng Levofloxacin hemihydra...         48   \n",
       "1084          L-Ornithine-L-Aspartate\\n  -  \\n500mg/5ml         60   \n",
       "1085            L-Ornithine-L-Aspartate\\n  -  \\n5g/10ml         60   \n",
       "1086                        Levomepromazin\\n  -  \\n25mg         36   \n",
       "\n",
       "                            DangBaoChe  \\\n",
       "0                            Thuốc cốm   \n",
       "1     Viên nén bao phim tan trong ruột   \n",
       "2                          Cốm sủi bọt   \n",
       "3                             Viên nén   \n",
       "4                    Viên nén bao phim   \n",
       "...                                ...   \n",
       "1082                 Viên nén bao phim   \n",
       "1083             Viên nén dài bao phim   \n",
       "1084                 Thuốc tiêm truyền   \n",
       "1085                 Thuốc tiêm truyền   \n",
       "1086                Viên nén bao đường   \n",
       "\n",
       "                                         QuyCachDongGoi  \\\n",
       "0                                   Hộp 10 gói x 3g cốm   \n",
       "1                                   Hộp 10 vỉ x 10 viên   \n",
       "2                                  Hộp 20 gói x 1,5 gam   \n",
       "3     Hộp 10 vỉ x 10 viên. Hộp 25 vỉ x 4 viên. Chai ...   \n",
       "4                    Hộp 10 vỉ x 10 viên; Chai 100 viên   \n",
       "...                                                 ...   \n",
       "1082                                 Hộp 3 vỉ x 10 viên   \n",
       "1083  Hộp 1 vỉ x 5 viên; Hộp 1 vỉ x 10 viên (vỉ nhôm...   \n",
       "1084                                     Hộp 10 ống 5ml   \n",
       "1085                                    Hộp 10 ống 10ml   \n",
       "1086            Hộp 1 lọ x 100 viên; Hộp 5 vỉ x 20 viên   \n",
       "\n",
       "                                          TenNhaCungCap  \\\n",
       "0                Công ty cổ phần công nghệ cao Traphaco   \n",
       "1                   Công ty cổ phần dược TW Mediplantex   \n",
       "2     Công ty cổ phần Dược phẩm Euvipharm - Thành vi...   \n",
       "3                    Công ty cổ phần dược phẩm Cửu Long   \n",
       "4                    Công ty cổ phần dược phẩm Cửu Long   \n",
       "...                                                 ...   \n",
       "1082                  Health Care Formulations Pvt. Ltd   \n",
       "1083                          Công ty Cổ phần BV Pharma   \n",
       "1084                          Myung-In Pharm. Co., Ltd.   \n",
       "1085                          Myung-In Pharm. Co., Ltd.   \n",
       "1086                       Công ty cổ phần dược Danapha   \n",
       "\n",
       "                                                 DiaChi     Gia1 NhaCungCapId  \\\n",
       "0            Xã Tân Quang, huyện Văn Lâm, tỉnh Hưng Yên    590.0       NCC130   \n",
       "1     Nhà máy dược phẩm số 2: Trung Hậu, Tiền Phong,...    950.0       NCC137   \n",
       "2       ấp Bình Tiền 2, xã Đức Hoà hạ, Đức Hoà, Long An   1800.0       NCC118   \n",
       "3     Số 150 đường 14 tháng 9, TP. Vĩnh Long, tỉnh V...    435.0       NCC148   \n",
       "4     Số 150 đường 14 tháng 9, TP. Vĩnh Long, tỉnh V...   1365.0       NCC148   \n",
       "...                                                 ...      ...          ...   \n",
       "1082  C/8 Sardar Estate, Ajwa Road, Baroda-390 019, ...  11000.0       NCC246   \n",
       "1083  Ấp 2, Xã Tân Thạnh Tây-Huyện Củ Chi-Thành phố ...   9700.0        NCC61   \n",
       "1084  186-1 Noha-Ri, Paltan-Myun, Hwasung-si, Gyeong...  12500.0       NCC309   \n",
       "1085  186-1 Noha-Ri, Paltan-Myun, Hwasung-si, Gyeong...  42000.0       NCC309   \n",
       "1086                 253 Dũng Sĩ Thanh Khê, tp. Đà Nẵng   1000.0       NCC132   \n",
       "\n",
       "      LoaiSanPhamId  \n",
       "0               4.0  \n",
       "1               1.0  \n",
       "2               9.0  \n",
       "3               3.0  \n",
       "4               8.0  \n",
       "...             ...  \n",
       "1082            8.0  \n",
       "1083            7.0  \n",
       "1084            9.0  \n",
       "1085            7.0  \n",
       "1086            5.0  \n",
       "\n",
       "[1087 rows x 13 columns]"
      ],
      "text/html": "<div>\n<style scoped>\n    .dataframe tbody tr th:only-of-type {\n        vertical-align: middle;\n    }\n\n    .dataframe tbody tr th {\n        vertical-align: top;\n    }\n\n    .dataframe thead th {\n        text-align: right;\n    }\n</style>\n<table border=\"1\" class=\"dataframe\">\n  <thead>\n    <tr style=\"text-align: right;\">\n      <th></th>\n      <th>DonViTinh</th>\n      <th>Gia</th>\n      <th>TenThuoc</th>\n      <th>ThuocId</th>\n      <th>MoTa</th>\n      <th>HanSuDung</th>\n      <th>DangBaoChe</th>\n      <th>QuyCachDongGoi</th>\n      <th>TenNhaCungCap</th>\n      <th>DiaChi</th>\n      <th>Gia1</th>\n      <th>NhaCungCapId</th>\n      <th>LoaiSanPhamId</th>\n    </tr>\n  </thead>\n  <tbody>\n    <tr>\n      <th>0</th>\n      <td>Viên</td>\n      <td>590</td>\n      <td>Casoran</td>\n      <td>VD-23889-15</td>\n      <td>Cao hoa hòe (3:1)\\n  -  \\n160mg\\nCao dừa cạn (...</td>\n      <td>48</td>\n      <td>Thuốc cốm</td>\n      <td>Hộp 10 gói x 3g cốm</td>\n      <td>Công ty cổ phần công nghệ cao Traphaco</td>\n      <td>Xã Tân Quang, huyện Văn Lâm, tỉnh Hưng Yên</td>\n      <td>590.0</td>\n      <td>NCC130</td>\n      <td>4.0</td>\n    </tr>\n    <tr>\n      <th>1</th>\n      <td>Viên</td>\n      <td>950</td>\n      <td>ATP</td>\n      <td>VD-27208-17</td>\n      <td>Dinatri adenosin triphosphat\\n  -  \\n20mg</td>\n      <td>36</td>\n      <td>Viên nén bao phim tan trong ruột</td>\n      <td>Hộp 10 vỉ x 10 viên</td>\n      <td>Công ty cổ phần dược TW Mediplantex</td>\n      <td>Nhà máy dược phẩm số 2: Trung Hậu, Tiền Phong,...</td>\n      <td>950.0</td>\n      <td>NCC137</td>\n      <td>1.0</td>\n    </tr>\n    <tr>\n      <th>2</th>\n      <td>Gói</td>\n      <td>1,800</td>\n      <td>Acefalgan 250</td>\n      <td>VD-25673-16</td>\n      <td>Paracetamol\\n  -  \\n250mg</td>\n      <td>36</td>\n      <td>Cốm sủi bọt</td>\n      <td>Hộp 20 gói x 1,5 gam</td>\n      <td>Công ty cổ phần Dược phẩm Euvipharm - Thành vi...</td>\n      <td>ấp Bình Tiền 2, xã Đức Hoà hạ, Đức Hoà, Long An</td>\n      <td>1800.0</td>\n      <td>NCC118</td>\n      <td>9.0</td>\n    </tr>\n    <tr>\n      <th>3</th>\n      <td>Viên</td>\n      <td>435</td>\n      <td>Acepron 650</td>\n      <td>VD-22822-15</td>\n      <td>Paracetamol\\n  -  \\n650 mg</td>\n      <td>36</td>\n      <td>Viên nén</td>\n      <td>Hộp 10 vỉ x 10 viên. Hộp 25 vỉ x 4 viên. Chai ...</td>\n      <td>Công ty cổ phần dược phẩm Cửu Long</td>\n      <td>Số 150 đường 14 tháng 9, TP. Vĩnh Long, tỉnh V...</td>\n      <td>435.0</td>\n      <td>NCC148</td>\n      <td>3.0</td>\n    </tr>\n    <tr>\n      <th>4</th>\n      <td>Viên</td>\n      <td>1,365</td>\n      <td>Acepron Codein</td>\n      <td>VD-20681-14</td>\n      <td>Paracetamol\\n  -  \\n500 mg\\nCodein phosphat he...</td>\n      <td>36</td>\n      <td>Viên nén bao phim</td>\n      <td>Hộp 10 vỉ x 10 viên; Chai 100 viên</td>\n      <td>Công ty cổ phần dược phẩm Cửu Long</td>\n      <td>Số 150 đường 14 tháng 9, TP. Vĩnh Long, tỉnh V...</td>\n      <td>1365.0</td>\n      <td>NCC148</td>\n      <td>8.0</td>\n    </tr>\n    <tr>\n      <th>...</th>\n      <td>...</td>\n      <td>...</td>\n      <td>...</td>\n      <td>...</td>\n      <td>...</td>\n      <td>...</td>\n      <td>...</td>\n      <td>...</td>\n      <td>...</td>\n      <td>...</td>\n      <td>...</td>\n      <td>...</td>\n      <td>...</td>\n    </tr>\n    <tr>\n      <th>1082</th>\n      <td>Viên</td>\n      <td>11,000</td>\n      <td>Levojack</td>\n      <td>VN-19624-16</td>\n      <td>Levofloxacin (dưới dạng Levofloxacin hemihydra...</td>\n      <td>24</td>\n      <td>Viên nén bao phim</td>\n      <td>Hộp 3 vỉ x 10 viên</td>\n      <td>Health Care Formulations Pvt. Ltd</td>\n      <td>C/8 Sardar Estate, Ajwa Road, Baroda-390 019, ...</td>\n      <td>11000.0</td>\n      <td>NCC246</td>\n      <td>8.0</td>\n    </tr>\n    <tr>\n      <th>1083</th>\n      <td>Viên</td>\n      <td>9,700</td>\n      <td>Levoleo 500</td>\n      <td>VD-20142-13</td>\n      <td>Levofloxacin (dưới dạng Levofloxacin hemihydra...</td>\n      <td>48</td>\n      <td>Viên nén dài bao phim</td>\n      <td>Hộp 1 vỉ x 5 viên; Hộp 1 vỉ x 10 viên (vỉ nhôm...</td>\n      <td>Công ty Cổ phần BV Pharma</td>\n      <td>Ấp 2, Xã Tân Thạnh Tây-Huyện Củ Chi-Thành phố ...</td>\n      <td>9700.0</td>\n      <td>NCC61</td>\n      <td>7.0</td>\n    </tr>\n    <tr>\n      <th>1084</th>\n      <td>Ống</td>\n      <td>12,500</td>\n      <td>Levomels Infusion</td>\n      <td>VN-16871-13</td>\n      <td>L-Ornithine-L-Aspartate\\n  -  \\n500mg/5ml</td>\n      <td>60</td>\n      <td>Thuốc tiêm truyền</td>\n      <td>Hộp 10 ống 5ml</td>\n      <td>Myung-In Pharm. Co., Ltd.</td>\n      <td>186-1 Noha-Ri, Paltan-Myun, Hwasung-si, Gyeong...</td>\n      <td>12500.0</td>\n      <td>NCC309</td>\n      <td>9.0</td>\n    </tr>\n    <tr>\n      <th>1085</th>\n      <td>Ống</td>\n      <td>42,000</td>\n      <td>Levomels Infusion</td>\n      <td>VN-16872-13</td>\n      <td>L-Ornithine-L-Aspartate\\n  -  \\n5g/10ml</td>\n      <td>60</td>\n      <td>Thuốc tiêm truyền</td>\n      <td>Hộp 10 ống 10ml</td>\n      <td>Myung-In Pharm. Co., Ltd.</td>\n      <td>186-1 Noha-Ri, Paltan-Myun, Hwasung-si, Gyeong...</td>\n      <td>42000.0</td>\n      <td>NCC309</td>\n      <td>7.0</td>\n    </tr>\n    <tr>\n      <th>1086</th>\n      <td>Viên</td>\n      <td>1,000</td>\n      <td>Levomepromazin 25 mg</td>\n      <td>VD-24685-16</td>\n      <td>Levomepromazin\\n  -  \\n25mg</td>\n      <td>36</td>\n      <td>Viên nén bao đường</td>\n      <td>Hộp 1 lọ x 100 viên; Hộp 5 vỉ x 20 viên</td>\n      <td>Công ty cổ phần dược Danapha</td>\n      <td>253 Dũng Sĩ Thanh Khê, tp. Đà Nẵng</td>\n      <td>1000.0</td>\n      <td>NCC132</td>\n      <td>5.0</td>\n    </tr>\n  </tbody>\n</table>\n<p>1087 rows × 13 columns</p>\n</div>"
     },
     "metadata": {},
     "execution_count": 16
    }
   ],
   "source": [
    "data"
   ]
  },
  {
   "cell_type": "code",
   "execution_count": 81,
   "metadata": {},
   "outputs": [],
   "source": [
    "temp[\"NhaCungCapId\"] = uuid.uuid1()"
   ]
  },
  {
   "cell_type": "code",
   "execution_count": 18,
   "metadata": {},
   "outputs": [],
   "source": [
    "thuocTable = data[[\"ThuocId\", 'TenThuoc', 'MoTa', 'HanSuDung', 'DonViTinh', 'DangBaoChe', 'QuyCachDongGoi', 'Gia1', 'NhaCungCapId', 'LoaiSanPhamId']]\n"
   ]
  },
  {
   "cell_type": "code",
   "execution_count": 19,
   "metadata": {},
   "outputs": [],
   "source": [
    "thuocTable\n",
    "thuocTable[\"TonKho\"] = 0\n",
    "thuocTable[\"Thue\"] = 0.05"
   ]
  },
  {
   "cell_type": "code",
   "execution_count": 20,
   "metadata": {},
   "outputs": [
    {
     "output_type": "execute_result",
     "data": {
      "text/plain": [
       "          ThuocId              TenThuoc  \\\n",
       "0     VD-23889-15               Casoran   \n",
       "1     VD-27208-17                   ATP   \n",
       "2     VD-25673-16         Acefalgan 250   \n",
       "3     VD-22822-15           Acepron 650   \n",
       "4     VD-20681-14        Acepron Codein   \n",
       "...           ...                   ...   \n",
       "1082  VN-19624-16              Levojack   \n",
       "1083  VD-20142-13           Levoleo 500   \n",
       "1084  VN-16871-13     Levomels Infusion   \n",
       "1085  VN-16872-13     Levomels Infusion   \n",
       "1086  VD-24685-16  Levomepromazin 25 mg   \n",
       "\n",
       "                                                   MoTa  HanSuDung DonViTinh  \\\n",
       "0     Cao hoa hòe (3:1)\\n  -  \\n160mg\\nCao dừa cạn (...         48      Viên   \n",
       "1             Dinatri adenosin triphosphat\\n  -  \\n20mg         36      Viên   \n",
       "2                             Paracetamol\\n  -  \\n250mg         36       Gói   \n",
       "3                            Paracetamol\\n  -  \\n650 mg         36      Viên   \n",
       "4     Paracetamol\\n  -  \\n500 mg\\nCodein phosphat he...         36      Viên   \n",
       "...                                                 ...        ...       ...   \n",
       "1082  Levofloxacin (dưới dạng Levofloxacin hemihydra...         24      Viên   \n",
       "1083  Levofloxacin (dưới dạng Levofloxacin hemihydra...         48      Viên   \n",
       "1084          L-Ornithine-L-Aspartate\\n  -  \\n500mg/5ml         60       Ống   \n",
       "1085            L-Ornithine-L-Aspartate\\n  -  \\n5g/10ml         60       Ống   \n",
       "1086                        Levomepromazin\\n  -  \\n25mg         36      Viên   \n",
       "\n",
       "                            DangBaoChe  \\\n",
       "0                            Thuốc cốm   \n",
       "1     Viên nén bao phim tan trong ruột   \n",
       "2                          Cốm sủi bọt   \n",
       "3                             Viên nén   \n",
       "4                    Viên nén bao phim   \n",
       "...                                ...   \n",
       "1082                 Viên nén bao phim   \n",
       "1083             Viên nén dài bao phim   \n",
       "1084                 Thuốc tiêm truyền   \n",
       "1085                 Thuốc tiêm truyền   \n",
       "1086                Viên nén bao đường   \n",
       "\n",
       "                                         QuyCachDongGoi     Gia1 NhaCungCapId  \\\n",
       "0                                   Hộp 10 gói x 3g cốm    590.0       NCC130   \n",
       "1                                   Hộp 10 vỉ x 10 viên    950.0       NCC137   \n",
       "2                                  Hộp 20 gói x 1,5 gam   1800.0       NCC118   \n",
       "3     Hộp 10 vỉ x 10 viên. Hộp 25 vỉ x 4 viên. Chai ...    435.0       NCC148   \n",
       "4                    Hộp 10 vỉ x 10 viên; Chai 100 viên   1365.0       NCC148   \n",
       "...                                                 ...      ...          ...   \n",
       "1082                                 Hộp 3 vỉ x 10 viên  11000.0       NCC246   \n",
       "1083  Hộp 1 vỉ x 5 viên; Hộp 1 vỉ x 10 viên (vỉ nhôm...   9700.0        NCC61   \n",
       "1084                                     Hộp 10 ống 5ml  12500.0       NCC309   \n",
       "1085                                    Hộp 10 ống 10ml  42000.0       NCC309   \n",
       "1086            Hộp 1 lọ x 100 viên; Hộp 5 vỉ x 20 viên   1000.0       NCC132   \n",
       "\n",
       "      LoaiSanPhamId  TonKho  Thue  \n",
       "0               4.0       0  0.05  \n",
       "1               1.0       0  0.05  \n",
       "2               9.0       0  0.05  \n",
       "3               3.0       0  0.05  \n",
       "4               8.0       0  0.05  \n",
       "...             ...     ...   ...  \n",
       "1082            8.0       0  0.05  \n",
       "1083            7.0       0  0.05  \n",
       "1084            9.0       0  0.05  \n",
       "1085            7.0       0  0.05  \n",
       "1086            5.0       0  0.05  \n",
       "\n",
       "[1087 rows x 12 columns]"
      ],
      "text/html": "<div>\n<style scoped>\n    .dataframe tbody tr th:only-of-type {\n        vertical-align: middle;\n    }\n\n    .dataframe tbody tr th {\n        vertical-align: top;\n    }\n\n    .dataframe thead th {\n        text-align: right;\n    }\n</style>\n<table border=\"1\" class=\"dataframe\">\n  <thead>\n    <tr style=\"text-align: right;\">\n      <th></th>\n      <th>ThuocId</th>\n      <th>TenThuoc</th>\n      <th>MoTa</th>\n      <th>HanSuDung</th>\n      <th>DonViTinh</th>\n      <th>DangBaoChe</th>\n      <th>QuyCachDongGoi</th>\n      <th>Gia1</th>\n      <th>NhaCungCapId</th>\n      <th>LoaiSanPhamId</th>\n      <th>TonKho</th>\n      <th>Thue</th>\n    </tr>\n  </thead>\n  <tbody>\n    <tr>\n      <th>0</th>\n      <td>VD-23889-15</td>\n      <td>Casoran</td>\n      <td>Cao hoa hòe (3:1)\\n  -  \\n160mg\\nCao dừa cạn (...</td>\n      <td>48</td>\n      <td>Viên</td>\n      <td>Thuốc cốm</td>\n      <td>Hộp 10 gói x 3g cốm</td>\n      <td>590.0</td>\n      <td>NCC130</td>\n      <td>4.0</td>\n      <td>0</td>\n      <td>0.05</td>\n    </tr>\n    <tr>\n      <th>1</th>\n      <td>VD-27208-17</td>\n      <td>ATP</td>\n      <td>Dinatri adenosin triphosphat\\n  -  \\n20mg</td>\n      <td>36</td>\n      <td>Viên</td>\n      <td>Viên nén bao phim tan trong ruột</td>\n      <td>Hộp 10 vỉ x 10 viên</td>\n      <td>950.0</td>\n      <td>NCC137</td>\n      <td>1.0</td>\n      <td>0</td>\n      <td>0.05</td>\n    </tr>\n    <tr>\n      <th>2</th>\n      <td>VD-25673-16</td>\n      <td>Acefalgan 250</td>\n      <td>Paracetamol\\n  -  \\n250mg</td>\n      <td>36</td>\n      <td>Gói</td>\n      <td>Cốm sủi bọt</td>\n      <td>Hộp 20 gói x 1,5 gam</td>\n      <td>1800.0</td>\n      <td>NCC118</td>\n      <td>9.0</td>\n      <td>0</td>\n      <td>0.05</td>\n    </tr>\n    <tr>\n      <th>3</th>\n      <td>VD-22822-15</td>\n      <td>Acepron 650</td>\n      <td>Paracetamol\\n  -  \\n650 mg</td>\n      <td>36</td>\n      <td>Viên</td>\n      <td>Viên nén</td>\n      <td>Hộp 10 vỉ x 10 viên. Hộp 25 vỉ x 4 viên. Chai ...</td>\n      <td>435.0</td>\n      <td>NCC148</td>\n      <td>3.0</td>\n      <td>0</td>\n      <td>0.05</td>\n    </tr>\n    <tr>\n      <th>4</th>\n      <td>VD-20681-14</td>\n      <td>Acepron Codein</td>\n      <td>Paracetamol\\n  -  \\n500 mg\\nCodein phosphat he...</td>\n      <td>36</td>\n      <td>Viên</td>\n      <td>Viên nén bao phim</td>\n      <td>Hộp 10 vỉ x 10 viên; Chai 100 viên</td>\n      <td>1365.0</td>\n      <td>NCC148</td>\n      <td>8.0</td>\n      <td>0</td>\n      <td>0.05</td>\n    </tr>\n    <tr>\n      <th>...</th>\n      <td>...</td>\n      <td>...</td>\n      <td>...</td>\n      <td>...</td>\n      <td>...</td>\n      <td>...</td>\n      <td>...</td>\n      <td>...</td>\n      <td>...</td>\n      <td>...</td>\n      <td>...</td>\n      <td>...</td>\n    </tr>\n    <tr>\n      <th>1082</th>\n      <td>VN-19624-16</td>\n      <td>Levojack</td>\n      <td>Levofloxacin (dưới dạng Levofloxacin hemihydra...</td>\n      <td>24</td>\n      <td>Viên</td>\n      <td>Viên nén bao phim</td>\n      <td>Hộp 3 vỉ x 10 viên</td>\n      <td>11000.0</td>\n      <td>NCC246</td>\n      <td>8.0</td>\n      <td>0</td>\n      <td>0.05</td>\n    </tr>\n    <tr>\n      <th>1083</th>\n      <td>VD-20142-13</td>\n      <td>Levoleo 500</td>\n      <td>Levofloxacin (dưới dạng Levofloxacin hemihydra...</td>\n      <td>48</td>\n      <td>Viên</td>\n      <td>Viên nén dài bao phim</td>\n      <td>Hộp 1 vỉ x 5 viên; Hộp 1 vỉ x 10 viên (vỉ nhôm...</td>\n      <td>9700.0</td>\n      <td>NCC61</td>\n      <td>7.0</td>\n      <td>0</td>\n      <td>0.05</td>\n    </tr>\n    <tr>\n      <th>1084</th>\n      <td>VN-16871-13</td>\n      <td>Levomels Infusion</td>\n      <td>L-Ornithine-L-Aspartate\\n  -  \\n500mg/5ml</td>\n      <td>60</td>\n      <td>Ống</td>\n      <td>Thuốc tiêm truyền</td>\n      <td>Hộp 10 ống 5ml</td>\n      <td>12500.0</td>\n      <td>NCC309</td>\n      <td>9.0</td>\n      <td>0</td>\n      <td>0.05</td>\n    </tr>\n    <tr>\n      <th>1085</th>\n      <td>VN-16872-13</td>\n      <td>Levomels Infusion</td>\n      <td>L-Ornithine-L-Aspartate\\n  -  \\n5g/10ml</td>\n      <td>60</td>\n      <td>Ống</td>\n      <td>Thuốc tiêm truyền</td>\n      <td>Hộp 10 ống 10ml</td>\n      <td>42000.0</td>\n      <td>NCC309</td>\n      <td>7.0</td>\n      <td>0</td>\n      <td>0.05</td>\n    </tr>\n    <tr>\n      <th>1086</th>\n      <td>VD-24685-16</td>\n      <td>Levomepromazin 25 mg</td>\n      <td>Levomepromazin\\n  -  \\n25mg</td>\n      <td>36</td>\n      <td>Viên</td>\n      <td>Viên nén bao đường</td>\n      <td>Hộp 1 lọ x 100 viên; Hộp 5 vỉ x 20 viên</td>\n      <td>1000.0</td>\n      <td>NCC132</td>\n      <td>5.0</td>\n      <td>0</td>\n      <td>0.05</td>\n    </tr>\n  </tbody>\n</table>\n<p>1087 rows × 12 columns</p>\n</div>"
     },
     "metadata": {},
     "execution_count": 20
    }
   ],
   "source": [
    "thuocTable"
   ]
  },
  {
   "cell_type": "code",
   "execution_count": 21,
   "metadata": {},
   "outputs": [],
   "source": [
    "thuocTable.to_excel('thuocTable.xlsx')"
   ]
  },
  {
   "cell_type": "code",
   "execution_count": 22,
   "metadata": {},
   "outputs": [],
   "source": [
    "nhaCungCapTable = data[[\"NhaCungCapId\", \"TenNhaCungCap\"]]"
   ]
  },
  {
   "cell_type": "code",
   "execution_count": 56,
   "metadata": {},
   "outputs": [],
   "source": [
    "temp = nhaCungCapTable.groupby('NhaCungCapId').all().reset_index('NhaCungCapId')"
   ]
  },
  {
   "cell_type": "code",
   "execution_count": 57,
   "metadata": {},
   "outputs": [
    {
     "output_type": "execute_result",
     "data": {
      "text/plain": [
       "    NhaCungCapId  TenNhaCungCap  SoDienThoai   FAX  TrangChu\n",
       "0           NCC0           True         True  True      True\n",
       "1           NCC1           True         True  True      True\n",
       "2          NCC10           True         True  True      True\n",
       "3         NCC100           True         True  True      True\n",
       "4         NCC101           True         True  True      True\n",
       "..           ...            ...          ...   ...       ...\n",
       "375        NCC95           True         True  True      True\n",
       "376        NCC96           True         True  True      True\n",
       "377        NCC97           True         True  True      True\n",
       "378        NCC98           True         True  True      True\n",
       "379        NCC99           True         True  True      True\n",
       "\n",
       "[380 rows x 5 columns]"
      ],
      "text/html": "<div>\n<style scoped>\n    .dataframe tbody tr th:only-of-type {\n        vertical-align: middle;\n    }\n\n    .dataframe tbody tr th {\n        vertical-align: top;\n    }\n\n    .dataframe thead th {\n        text-align: right;\n    }\n</style>\n<table border=\"1\" class=\"dataframe\">\n  <thead>\n    <tr style=\"text-align: right;\">\n      <th></th>\n      <th>NhaCungCapId</th>\n      <th>TenNhaCungCap</th>\n      <th>SoDienThoai</th>\n      <th>FAX</th>\n      <th>TrangChu</th>\n    </tr>\n  </thead>\n  <tbody>\n    <tr>\n      <th>0</th>\n      <td>NCC0</td>\n      <td>True</td>\n      <td>True</td>\n      <td>True</td>\n      <td>True</td>\n    </tr>\n    <tr>\n      <th>1</th>\n      <td>NCC1</td>\n      <td>True</td>\n      <td>True</td>\n      <td>True</td>\n      <td>True</td>\n    </tr>\n    <tr>\n      <th>2</th>\n      <td>NCC10</td>\n      <td>True</td>\n      <td>True</td>\n      <td>True</td>\n      <td>True</td>\n    </tr>\n    <tr>\n      <th>3</th>\n      <td>NCC100</td>\n      <td>True</td>\n      <td>True</td>\n      <td>True</td>\n      <td>True</td>\n    </tr>\n    <tr>\n      <th>4</th>\n      <td>NCC101</td>\n      <td>True</td>\n      <td>True</td>\n      <td>True</td>\n      <td>True</td>\n    </tr>\n    <tr>\n      <th>...</th>\n      <td>...</td>\n      <td>...</td>\n      <td>...</td>\n      <td>...</td>\n      <td>...</td>\n    </tr>\n    <tr>\n      <th>375</th>\n      <td>NCC95</td>\n      <td>True</td>\n      <td>True</td>\n      <td>True</td>\n      <td>True</td>\n    </tr>\n    <tr>\n      <th>376</th>\n      <td>NCC96</td>\n      <td>True</td>\n      <td>True</td>\n      <td>True</td>\n      <td>True</td>\n    </tr>\n    <tr>\n      <th>377</th>\n      <td>NCC97</td>\n      <td>True</td>\n      <td>True</td>\n      <td>True</td>\n      <td>True</td>\n    </tr>\n    <tr>\n      <th>378</th>\n      <td>NCC98</td>\n      <td>True</td>\n      <td>True</td>\n      <td>True</td>\n      <td>True</td>\n    </tr>\n    <tr>\n      <th>379</th>\n      <td>NCC99</td>\n      <td>True</td>\n      <td>True</td>\n      <td>True</td>\n      <td>True</td>\n    </tr>\n  </tbody>\n</table>\n<p>380 rows × 5 columns</p>\n</div>"
     },
     "metadata": {},
     "execution_count": 57
    }
   ],
   "source": [
    "temp"
   ]
  },
  {
   "cell_type": "code",
   "execution_count": null,
   "metadata": {},
   "outputs": [],
   "source": [
    "\n"
   ]
  },
  {
   "cell_type": "code",
   "execution_count": 23,
   "metadata": {},
   "outputs": [],
   "source": [
    "nhaCungCapTable[\"SoDienThoai\"] = \"NULL\""
   ]
  },
  {
   "cell_type": "code",
   "execution_count": 24,
   "metadata": {},
   "outputs": [],
   "source": [
    "nhaCungCapTable[\"FAX\"] = \"NULL\"\n",
    "nhaCungCapTable[\"TrangChu\"] = \"NULL\""
   ]
  },
  {
   "cell_type": "code",
   "execution_count": 45,
   "metadata": {},
   "outputs": [],
   "source": [
    "temp.to_excel('nhaCungCapTable.xlsx')"
   ]
  },
  {
   "cell_type": "code",
   "execution_count": 46,
   "metadata": {},
   "outputs": [],
   "source": [
    "diaChiTable = data[[\"NhaCungCapId\", \"DiaChi\"]]"
   ]
  },
  {
   "cell_type": "code",
   "execution_count": 59,
   "metadata": {},
   "outputs": [
    {
     "output_type": "execute_result",
     "data": {
      "text/plain": [
       "     DonViTinh     Gia              TenThuoc      ThuocId  \\\n",
       "0         Viên     590               Casoran  VD-23889-15   \n",
       "1         Viên     950                   ATP  VD-27208-17   \n",
       "2          Gói   1,800         Acefalgan 250  VD-25673-16   \n",
       "3         Viên     435           Acepron 650  VD-22822-15   \n",
       "4         Viên   1,365        Acepron Codein  VD-20681-14   \n",
       "...        ...     ...                   ...          ...   \n",
       "1082      Viên  11,000              Levojack  VN-19624-16   \n",
       "1083      Viên   9,700           Levoleo 500  VD-20142-13   \n",
       "1084       Ống  12,500     Levomels Infusion  VN-16871-13   \n",
       "1085       Ống  42,000     Levomels Infusion  VN-16872-13   \n",
       "1086      Viên   1,000  Levomepromazin 25 mg  VD-24685-16   \n",
       "\n",
       "                                                   MoTa  HanSuDung  \\\n",
       "0     Cao hoa hòe (3:1)\\n  -  \\n160mg\\nCao dừa cạn (...         48   \n",
       "1             Dinatri adenosin triphosphat\\n  -  \\n20mg         36   \n",
       "2                             Paracetamol\\n  -  \\n250mg         36   \n",
       "3                            Paracetamol\\n  -  \\n650 mg         36   \n",
       "4     Paracetamol\\n  -  \\n500 mg\\nCodein phosphat he...         36   \n",
       "...                                                 ...        ...   \n",
       "1082  Levofloxacin (dưới dạng Levofloxacin hemihydra...         24   \n",
       "1083  Levofloxacin (dưới dạng Levofloxacin hemihydra...         48   \n",
       "1084          L-Ornithine-L-Aspartate\\n  -  \\n500mg/5ml         60   \n",
       "1085            L-Ornithine-L-Aspartate\\n  -  \\n5g/10ml         60   \n",
       "1086                        Levomepromazin\\n  -  \\n25mg         36   \n",
       "\n",
       "                            DangBaoChe  \\\n",
       "0                            Thuốc cốm   \n",
       "1     Viên nén bao phim tan trong ruột   \n",
       "2                          Cốm sủi bọt   \n",
       "3                             Viên nén   \n",
       "4                    Viên nén bao phim   \n",
       "...                                ...   \n",
       "1082                 Viên nén bao phim   \n",
       "1083             Viên nén dài bao phim   \n",
       "1084                 Thuốc tiêm truyền   \n",
       "1085                 Thuốc tiêm truyền   \n",
       "1086                Viên nén bao đường   \n",
       "\n",
       "                                         QuyCachDongGoi  \\\n",
       "0                                   Hộp 10 gói x 3g cốm   \n",
       "1                                   Hộp 10 vỉ x 10 viên   \n",
       "2                                  Hộp 20 gói x 1,5 gam   \n",
       "3     Hộp 10 vỉ x 10 viên. Hộp 25 vỉ x 4 viên. Chai ...   \n",
       "4                    Hộp 10 vỉ x 10 viên; Chai 100 viên   \n",
       "...                                                 ...   \n",
       "1082                                 Hộp 3 vỉ x 10 viên   \n",
       "1083  Hộp 1 vỉ x 5 viên; Hộp 1 vỉ x 10 viên (vỉ nhôm...   \n",
       "1084                                     Hộp 10 ống 5ml   \n",
       "1085                                    Hộp 10 ống 10ml   \n",
       "1086            Hộp 1 lọ x 100 viên; Hộp 5 vỉ x 20 viên   \n",
       "\n",
       "                                          TenNhaCungCap  \\\n",
       "0                Công ty cổ phần công nghệ cao Traphaco   \n",
       "1                   Công ty cổ phần dược TW Mediplantex   \n",
       "2     Công ty cổ phần Dược phẩm Euvipharm - Thành vi...   \n",
       "3                    Công ty cổ phần dược phẩm Cửu Long   \n",
       "4                    Công ty cổ phần dược phẩm Cửu Long   \n",
       "...                                                 ...   \n",
       "1082                  Health Care Formulations Pvt. Ltd   \n",
       "1083                          Công ty Cổ phần BV Pharma   \n",
       "1084                          Myung-In Pharm. Co., Ltd.   \n",
       "1085                          Myung-In Pharm. Co., Ltd.   \n",
       "1086                       Công ty cổ phần dược Danapha   \n",
       "\n",
       "                                                 DiaChi     Gia1 NhaCungCapId  \\\n",
       "0            Xã Tân Quang, huyện Văn Lâm, tỉnh Hưng Yên    590.0       NCC130   \n",
       "1     Nhà máy dược phẩm số 2: Trung Hậu, Tiền Phong,...    950.0       NCC137   \n",
       "2       ấp Bình Tiền 2, xã Đức Hoà hạ, Đức Hoà, Long An   1800.0       NCC118   \n",
       "3     Số 150 đường 14 tháng 9, TP. Vĩnh Long, tỉnh V...    435.0       NCC148   \n",
       "4     Số 150 đường 14 tháng 9, TP. Vĩnh Long, tỉnh V...   1365.0       NCC148   \n",
       "...                                                 ...      ...          ...   \n",
       "1082  C/8 Sardar Estate, Ajwa Road, Baroda-390 019, ...  11000.0       NCC246   \n",
       "1083  Ấp 2, Xã Tân Thạnh Tây-Huyện Củ Chi-Thành phố ...   9700.0        NCC61   \n",
       "1084  186-1 Noha-Ri, Paltan-Myun, Hwasung-si, Gyeong...  12500.0       NCC309   \n",
       "1085  186-1 Noha-Ri, Paltan-Myun, Hwasung-si, Gyeong...  42000.0       NCC309   \n",
       "1086                 253 Dũng Sĩ Thanh Khê, tp. Đà Nẵng   1000.0       NCC132   \n",
       "\n",
       "      LoaiSanPhamId  \n",
       "0               4.0  \n",
       "1               1.0  \n",
       "2               9.0  \n",
       "3               3.0  \n",
       "4               8.0  \n",
       "...             ...  \n",
       "1082            8.0  \n",
       "1083            7.0  \n",
       "1084            9.0  \n",
       "1085            7.0  \n",
       "1086            5.0  \n",
       "\n",
       "[1087 rows x 13 columns]"
      ],
      "text/html": "<div>\n<style scoped>\n    .dataframe tbody tr th:only-of-type {\n        vertical-align: middle;\n    }\n\n    .dataframe tbody tr th {\n        vertical-align: top;\n    }\n\n    .dataframe thead th {\n        text-align: right;\n    }\n</style>\n<table border=\"1\" class=\"dataframe\">\n  <thead>\n    <tr style=\"text-align: right;\">\n      <th></th>\n      <th>DonViTinh</th>\n      <th>Gia</th>\n      <th>TenThuoc</th>\n      <th>ThuocId</th>\n      <th>MoTa</th>\n      <th>HanSuDung</th>\n      <th>DangBaoChe</th>\n      <th>QuyCachDongGoi</th>\n      <th>TenNhaCungCap</th>\n      <th>DiaChi</th>\n      <th>Gia1</th>\n      <th>NhaCungCapId</th>\n      <th>LoaiSanPhamId</th>\n    </tr>\n  </thead>\n  <tbody>\n    <tr>\n      <th>0</th>\n      <td>Viên</td>\n      <td>590</td>\n      <td>Casoran</td>\n      <td>VD-23889-15</td>\n      <td>Cao hoa hòe (3:1)\\n  -  \\n160mg\\nCao dừa cạn (...</td>\n      <td>48</td>\n      <td>Thuốc cốm</td>\n      <td>Hộp 10 gói x 3g cốm</td>\n      <td>Công ty cổ phần công nghệ cao Traphaco</td>\n      <td>Xã Tân Quang, huyện Văn Lâm, tỉnh Hưng Yên</td>\n      <td>590.0</td>\n      <td>NCC130</td>\n      <td>4.0</td>\n    </tr>\n    <tr>\n      <th>1</th>\n      <td>Viên</td>\n      <td>950</td>\n      <td>ATP</td>\n      <td>VD-27208-17</td>\n      <td>Dinatri adenosin triphosphat\\n  -  \\n20mg</td>\n      <td>36</td>\n      <td>Viên nén bao phim tan trong ruột</td>\n      <td>Hộp 10 vỉ x 10 viên</td>\n      <td>Công ty cổ phần dược TW Mediplantex</td>\n      <td>Nhà máy dược phẩm số 2: Trung Hậu, Tiền Phong,...</td>\n      <td>950.0</td>\n      <td>NCC137</td>\n      <td>1.0</td>\n    </tr>\n    <tr>\n      <th>2</th>\n      <td>Gói</td>\n      <td>1,800</td>\n      <td>Acefalgan 250</td>\n      <td>VD-25673-16</td>\n      <td>Paracetamol\\n  -  \\n250mg</td>\n      <td>36</td>\n      <td>Cốm sủi bọt</td>\n      <td>Hộp 20 gói x 1,5 gam</td>\n      <td>Công ty cổ phần Dược phẩm Euvipharm - Thành vi...</td>\n      <td>ấp Bình Tiền 2, xã Đức Hoà hạ, Đức Hoà, Long An</td>\n      <td>1800.0</td>\n      <td>NCC118</td>\n      <td>9.0</td>\n    </tr>\n    <tr>\n      <th>3</th>\n      <td>Viên</td>\n      <td>435</td>\n      <td>Acepron 650</td>\n      <td>VD-22822-15</td>\n      <td>Paracetamol\\n  -  \\n650 mg</td>\n      <td>36</td>\n      <td>Viên nén</td>\n      <td>Hộp 10 vỉ x 10 viên. Hộp 25 vỉ x 4 viên. Chai ...</td>\n      <td>Công ty cổ phần dược phẩm Cửu Long</td>\n      <td>Số 150 đường 14 tháng 9, TP. Vĩnh Long, tỉnh V...</td>\n      <td>435.0</td>\n      <td>NCC148</td>\n      <td>3.0</td>\n    </tr>\n    <tr>\n      <th>4</th>\n      <td>Viên</td>\n      <td>1,365</td>\n      <td>Acepron Codein</td>\n      <td>VD-20681-14</td>\n      <td>Paracetamol\\n  -  \\n500 mg\\nCodein phosphat he...</td>\n      <td>36</td>\n      <td>Viên nén bao phim</td>\n      <td>Hộp 10 vỉ x 10 viên; Chai 100 viên</td>\n      <td>Công ty cổ phần dược phẩm Cửu Long</td>\n      <td>Số 150 đường 14 tháng 9, TP. Vĩnh Long, tỉnh V...</td>\n      <td>1365.0</td>\n      <td>NCC148</td>\n      <td>8.0</td>\n    </tr>\n    <tr>\n      <th>...</th>\n      <td>...</td>\n      <td>...</td>\n      <td>...</td>\n      <td>...</td>\n      <td>...</td>\n      <td>...</td>\n      <td>...</td>\n      <td>...</td>\n      <td>...</td>\n      <td>...</td>\n      <td>...</td>\n      <td>...</td>\n      <td>...</td>\n    </tr>\n    <tr>\n      <th>1082</th>\n      <td>Viên</td>\n      <td>11,000</td>\n      <td>Levojack</td>\n      <td>VN-19624-16</td>\n      <td>Levofloxacin (dưới dạng Levofloxacin hemihydra...</td>\n      <td>24</td>\n      <td>Viên nén bao phim</td>\n      <td>Hộp 3 vỉ x 10 viên</td>\n      <td>Health Care Formulations Pvt. Ltd</td>\n      <td>C/8 Sardar Estate, Ajwa Road, Baroda-390 019, ...</td>\n      <td>11000.0</td>\n      <td>NCC246</td>\n      <td>8.0</td>\n    </tr>\n    <tr>\n      <th>1083</th>\n      <td>Viên</td>\n      <td>9,700</td>\n      <td>Levoleo 500</td>\n      <td>VD-20142-13</td>\n      <td>Levofloxacin (dưới dạng Levofloxacin hemihydra...</td>\n      <td>48</td>\n      <td>Viên nén dài bao phim</td>\n      <td>Hộp 1 vỉ x 5 viên; Hộp 1 vỉ x 10 viên (vỉ nhôm...</td>\n      <td>Công ty Cổ phần BV Pharma</td>\n      <td>Ấp 2, Xã Tân Thạnh Tây-Huyện Củ Chi-Thành phố ...</td>\n      <td>9700.0</td>\n      <td>NCC61</td>\n      <td>7.0</td>\n    </tr>\n    <tr>\n      <th>1084</th>\n      <td>Ống</td>\n      <td>12,500</td>\n      <td>Levomels Infusion</td>\n      <td>VN-16871-13</td>\n      <td>L-Ornithine-L-Aspartate\\n  -  \\n500mg/5ml</td>\n      <td>60</td>\n      <td>Thuốc tiêm truyền</td>\n      <td>Hộp 10 ống 5ml</td>\n      <td>Myung-In Pharm. Co., Ltd.</td>\n      <td>186-1 Noha-Ri, Paltan-Myun, Hwasung-si, Gyeong...</td>\n      <td>12500.0</td>\n      <td>NCC309</td>\n      <td>9.0</td>\n    </tr>\n    <tr>\n      <th>1085</th>\n      <td>Ống</td>\n      <td>42,000</td>\n      <td>Levomels Infusion</td>\n      <td>VN-16872-13</td>\n      <td>L-Ornithine-L-Aspartate\\n  -  \\n5g/10ml</td>\n      <td>60</td>\n      <td>Thuốc tiêm truyền</td>\n      <td>Hộp 10 ống 10ml</td>\n      <td>Myung-In Pharm. Co., Ltd.</td>\n      <td>186-1 Noha-Ri, Paltan-Myun, Hwasung-si, Gyeong...</td>\n      <td>42000.0</td>\n      <td>NCC309</td>\n      <td>7.0</td>\n    </tr>\n    <tr>\n      <th>1086</th>\n      <td>Viên</td>\n      <td>1,000</td>\n      <td>Levomepromazin 25 mg</td>\n      <td>VD-24685-16</td>\n      <td>Levomepromazin\\n  -  \\n25mg</td>\n      <td>36</td>\n      <td>Viên nén bao đường</td>\n      <td>Hộp 1 lọ x 100 viên; Hộp 5 vỉ x 20 viên</td>\n      <td>Công ty cổ phần dược Danapha</td>\n      <td>253 Dũng Sĩ Thanh Khê, tp. Đà Nẵng</td>\n      <td>1000.0</td>\n      <td>NCC132</td>\n      <td>5.0</td>\n    </tr>\n  </tbody>\n</table>\n<p>1087 rows × 13 columns</p>\n</div>"
     },
     "metadata": {},
     "execution_count": 59
    }
   ],
   "source": [
    "data"
   ]
  },
  {
   "cell_type": "code",
   "execution_count": 63,
   "metadata": {},
   "outputs": [],
   "source": [
    "for i in range(len(temp)):\n",
    "    for j in range(len(diaChiTable)):\n",
    "        if(temp.at[i, 'NhaCungCapId'] == diaChiTable.at[j, 'NhaCungCapId']):\n",
    "            temp.at[i, 'DiaChi'] = diaChiTable.at[j, 'DiaChi']"
   ]
  },
  {
   "cell_type": "code",
   "execution_count": 65,
   "metadata": {},
   "outputs": [],
   "source": [
    "diaChiTable =  temp[[\"NhaCungCapId\", \"DiaChi\"]]"
   ]
  },
  {
   "cell_type": "code",
   "execution_count": 66,
   "metadata": {},
   "outputs": [
    {
     "output_type": "execute_result",
     "data": {
      "text/plain": [
       "    NhaCungCapId                                             DiaChi\n",
       "0           NCC0      521 An lợi, Hòa Lợi, Bến Cát, tỉnh Bình Dương\n",
       "1           NCC1                               Casai 7748 Campasico\n",
       "2          NCC10  T-82, M.I.D.C., Bhosari, Pune-411026 Maharasht...\n",
       "3         NCC100  26 Bis/1 Khu phố Trung, phường Vĩnh Phú, thị x...\n",
       "4         NCC101  Số 27, đường số 6, KCN Việt Nam-Singapore, huy...\n",
       "..           ...                                                ...\n",
       "375        NCC95  636 Nguyễn Tắt Thành - P. 9 - TP. Tuy Hòa - Ph...\n",
       "376        NCC96  Lô B1-10, Đường D2, KCN Tây Bắc Củ Chi, TP. Hồ...\n",
       "377        NCC97     Lô B1-10, Đường D2, KCN Tây Bắc Củ Chi, Tp HCM\n",
       "378        NCC98                  ấp 2, Bình Chánh, Tp. Hồ Chí Minh\n",
       "379        NCC99  Đường số 3, cụm công nghiệp Liên Hưng, ấp Bình...\n",
       "\n",
       "[380 rows x 2 columns]"
      ],
      "text/html": "<div>\n<style scoped>\n    .dataframe tbody tr th:only-of-type {\n        vertical-align: middle;\n    }\n\n    .dataframe tbody tr th {\n        vertical-align: top;\n    }\n\n    .dataframe thead th {\n        text-align: right;\n    }\n</style>\n<table border=\"1\" class=\"dataframe\">\n  <thead>\n    <tr style=\"text-align: right;\">\n      <th></th>\n      <th>NhaCungCapId</th>\n      <th>DiaChi</th>\n    </tr>\n  </thead>\n  <tbody>\n    <tr>\n      <th>0</th>\n      <td>NCC0</td>\n      <td>521 An lợi, Hòa Lợi, Bến Cát, tỉnh Bình Dương</td>\n    </tr>\n    <tr>\n      <th>1</th>\n      <td>NCC1</td>\n      <td>Casai 7748 Campasico</td>\n    </tr>\n    <tr>\n      <th>2</th>\n      <td>NCC10</td>\n      <td>T-82, M.I.D.C., Bhosari, Pune-411026 Maharasht...</td>\n    </tr>\n    <tr>\n      <th>3</th>\n      <td>NCC100</td>\n      <td>26 Bis/1 Khu phố Trung, phường Vĩnh Phú, thị x...</td>\n    </tr>\n    <tr>\n      <th>4</th>\n      <td>NCC101</td>\n      <td>Số 27, đường số 6, KCN Việt Nam-Singapore, huy...</td>\n    </tr>\n    <tr>\n      <th>...</th>\n      <td>...</td>\n      <td>...</td>\n    </tr>\n    <tr>\n      <th>375</th>\n      <td>NCC95</td>\n      <td>636 Nguyễn Tắt Thành - P. 9 - TP. Tuy Hòa - Ph...</td>\n    </tr>\n    <tr>\n      <th>376</th>\n      <td>NCC96</td>\n      <td>Lô B1-10, Đường D2, KCN Tây Bắc Củ Chi, TP. Hồ...</td>\n    </tr>\n    <tr>\n      <th>377</th>\n      <td>NCC97</td>\n      <td>Lô B1-10, Đường D2, KCN Tây Bắc Củ Chi, Tp HCM</td>\n    </tr>\n    <tr>\n      <th>378</th>\n      <td>NCC98</td>\n      <td>ấp 2, Bình Chánh, Tp. Hồ Chí Minh</td>\n    </tr>\n    <tr>\n      <th>379</th>\n      <td>NCC99</td>\n      <td>Đường số 3, cụm công nghiệp Liên Hưng, ấp Bình...</td>\n    </tr>\n  </tbody>\n</table>\n<p>380 rows × 2 columns</p>\n</div>"
     },
     "metadata": {},
     "execution_count": 66
    }
   ],
   "source": [
    "diaChiTable"
   ]
  },
  {
   "cell_type": "code",
   "execution_count": 74,
   "metadata": {
    "tags": []
   },
   "outputs": [],
   "source": [
    "for i in range(len(diaChiTable)):\n",
    "    hello = diaChiTable.at[i, 'DiaChi'].split(',')\n",
    "    try:\n",
    "        diaChiTable.at[i, 'TinhThanhPho'] = hello[len(hello)-1]\n",
    "    except:\n",
    "        diaChiTable.at[i, 'TinhThanhPho'] = \"NULL\"\n",
    "    try:\n",
    "        diaChiTable.at[i, 'QuanHuyen'] = hello[len(hello)-2]\n",
    "    except:\n",
    "        diaChiTable.at[i, 'QuanHuyen'] = \"NULL\"\n",
    "    try:\n",
    "        diaChiTable.at[i, 'PhuongXa'] = hello[len(hello)-3]\n",
    "    except:\n",
    "        diaChiTable.at[i, 'PhuongXa'] = \"NULL\"\n"
   ]
  },
  {
   "cell_type": "code",
   "execution_count": 75,
   "metadata": {},
   "outputs": [
    {
     "output_type": "execute_result",
     "data": {
      "text/plain": [
       "    NhaCungCapId                                             DiaChi  \\\n",
       "0           NCC0      521 An lợi, Hòa Lợi, Bến Cát, tỉnh Bình Dương   \n",
       "1           NCC1                               Casai 7748 Campasico   \n",
       "2          NCC10  T-82, M.I.D.C., Bhosari, Pune-411026 Maharasht...   \n",
       "3         NCC100  26 Bis/1 Khu phố Trung, phường Vĩnh Phú, thị x...   \n",
       "4         NCC101  Số 27, đường số 6, KCN Việt Nam-Singapore, huy...   \n",
       "..           ...                                                ...   \n",
       "375        NCC95  636 Nguyễn Tắt Thành - P. 9 - TP. Tuy Hòa - Ph...   \n",
       "376        NCC96  Lô B1-10, Đường D2, KCN Tây Bắc Củ Chi, TP. Hồ...   \n",
       "377        NCC97     Lô B1-10, Đường D2, KCN Tây Bắc Củ Chi, Tp HCM   \n",
       "378        NCC98                  ấp 2, Bình Chánh, Tp. Hồ Chí Minh   \n",
       "379        NCC99  Đường số 3, cụm công nghiệp Liên Hưng, ấp Bình...   \n",
       "\n",
       "         tinhThanhPho                                       TinhThanhPho  \\\n",
       "0             Hòa Lợi                                    tỉnh Bình Dương   \n",
       "1                NULL                               Casai 7748 Campasico   \n",
       "2            M.I.D.C.                      Pune-411026 Maharashtra State   \n",
       "3     phường Vĩnh Phú                                         Bình Dương   \n",
       "4          đường số 6                                     huyện Thuận An   \n",
       "..                ...                                                ...   \n",
       "375              NULL  636 Nguyễn Tắt Thành - P. 9 - TP. Tuy Hòa - Ph...   \n",
       "376          Đường D2                                    TP. Hồ Chí Minh   \n",
       "377          Đường D2                                             Tp HCM   \n",
       "378              ấp 2                                    Tp. Hồ Chí Minh   \n",
       "379     xã Đức Hòa Hạ                                            Long An   \n",
       "\n",
       "                                             QuanHuyen          PhuongXa  \n",
       "0                                              Bến Cát           Hòa Lợi  \n",
       "1                                 Casai 7748 Campasico              NULL  \n",
       "2                                              Bhosari          M.I.D.C.  \n",
       "3                                      thị xã Thuận An   phường Vĩnh Phú  \n",
       "4                               KCN Việt Nam-Singapore        đường số 6  \n",
       "..                                                 ...               ...  \n",
       "375  636 Nguyễn Tắt Thành - P. 9 - TP. Tuy Hòa - Ph...              NULL  \n",
       "376                                 KCN Tây Bắc Củ Chi          Đường D2  \n",
       "377                                 KCN Tây Bắc Củ Chi          Đường D2  \n",
       "378                                         Bình Chánh              ấp 2  \n",
       "379                                      huyện Đức Hòa     xã Đức Hòa Hạ  \n",
       "\n",
       "[380 rows x 6 columns]"
      ],
      "text/html": "<div>\n<style scoped>\n    .dataframe tbody tr th:only-of-type {\n        vertical-align: middle;\n    }\n\n    .dataframe tbody tr th {\n        vertical-align: top;\n    }\n\n    .dataframe thead th {\n        text-align: right;\n    }\n</style>\n<table border=\"1\" class=\"dataframe\">\n  <thead>\n    <tr style=\"text-align: right;\">\n      <th></th>\n      <th>NhaCungCapId</th>\n      <th>DiaChi</th>\n      <th>tinhThanhPho</th>\n      <th>TinhThanhPho</th>\n      <th>QuanHuyen</th>\n      <th>PhuongXa</th>\n    </tr>\n  </thead>\n  <tbody>\n    <tr>\n      <th>0</th>\n      <td>NCC0</td>\n      <td>521 An lợi, Hòa Lợi, Bến Cát, tỉnh Bình Dương</td>\n      <td>Hòa Lợi</td>\n      <td>tỉnh Bình Dương</td>\n      <td>Bến Cát</td>\n      <td>Hòa Lợi</td>\n    </tr>\n    <tr>\n      <th>1</th>\n      <td>NCC1</td>\n      <td>Casai 7748 Campasico</td>\n      <td>NULL</td>\n      <td>Casai 7748 Campasico</td>\n      <td>Casai 7748 Campasico</td>\n      <td>NULL</td>\n    </tr>\n    <tr>\n      <th>2</th>\n      <td>NCC10</td>\n      <td>T-82, M.I.D.C., Bhosari, Pune-411026 Maharasht...</td>\n      <td>M.I.D.C.</td>\n      <td>Pune-411026 Maharashtra State</td>\n      <td>Bhosari</td>\n      <td>M.I.D.C.</td>\n    </tr>\n    <tr>\n      <th>3</th>\n      <td>NCC100</td>\n      <td>26 Bis/1 Khu phố Trung, phường Vĩnh Phú, thị x...</td>\n      <td>phường Vĩnh Phú</td>\n      <td>Bình Dương</td>\n      <td>thị xã Thuận An</td>\n      <td>phường Vĩnh Phú</td>\n    </tr>\n    <tr>\n      <th>4</th>\n      <td>NCC101</td>\n      <td>Số 27, đường số 6, KCN Việt Nam-Singapore, huy...</td>\n      <td>đường số 6</td>\n      <td>huyện Thuận An</td>\n      <td>KCN Việt Nam-Singapore</td>\n      <td>đường số 6</td>\n    </tr>\n    <tr>\n      <th>...</th>\n      <td>...</td>\n      <td>...</td>\n      <td>...</td>\n      <td>...</td>\n      <td>...</td>\n      <td>...</td>\n    </tr>\n    <tr>\n      <th>375</th>\n      <td>NCC95</td>\n      <td>636 Nguyễn Tắt Thành - P. 9 - TP. Tuy Hòa - Ph...</td>\n      <td>NULL</td>\n      <td>636 Nguyễn Tắt Thành - P. 9 - TP. Tuy Hòa - Ph...</td>\n      <td>636 Nguyễn Tắt Thành - P. 9 - TP. Tuy Hòa - Ph...</td>\n      <td>NULL</td>\n    </tr>\n    <tr>\n      <th>376</th>\n      <td>NCC96</td>\n      <td>Lô B1-10, Đường D2, KCN Tây Bắc Củ Chi, TP. Hồ...</td>\n      <td>Đường D2</td>\n      <td>TP. Hồ Chí Minh</td>\n      <td>KCN Tây Bắc Củ Chi</td>\n      <td>Đường D2</td>\n    </tr>\n    <tr>\n      <th>377</th>\n      <td>NCC97</td>\n      <td>Lô B1-10, Đường D2, KCN Tây Bắc Củ Chi, Tp HCM</td>\n      <td>Đường D2</td>\n      <td>Tp HCM</td>\n      <td>KCN Tây Bắc Củ Chi</td>\n      <td>Đường D2</td>\n    </tr>\n    <tr>\n      <th>378</th>\n      <td>NCC98</td>\n      <td>ấp 2, Bình Chánh, Tp. Hồ Chí Minh</td>\n      <td>ấp 2</td>\n      <td>Tp. Hồ Chí Minh</td>\n      <td>Bình Chánh</td>\n      <td>ấp 2</td>\n    </tr>\n    <tr>\n      <th>379</th>\n      <td>NCC99</td>\n      <td>Đường số 3, cụm công nghiệp Liên Hưng, ấp Bình...</td>\n      <td>xã Đức Hòa Hạ</td>\n      <td>Long An</td>\n      <td>huyện Đức Hòa</td>\n      <td>xã Đức Hòa Hạ</td>\n    </tr>\n  </tbody>\n</table>\n<p>380 rows × 6 columns</p>\n</div>"
     },
     "metadata": {},
     "execution_count": 75
    }
   ],
   "source": [
    "diaChiTable"
   ]
  },
  {
   "cell_type": "code",
   "execution_count": 76,
   "metadata": {},
   "outputs": [],
   "source": [
    "diaChiTable.to_excel('diaChiTable.xlsx')"
   ]
  },
  {
   "cell_type": "code",
   "execution_count": null,
   "metadata": {},
   "outputs": [],
   "source": []
  }
 ]
}