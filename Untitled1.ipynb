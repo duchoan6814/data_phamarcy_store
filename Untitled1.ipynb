{
 "cells": [
  {
   "cell_type": "code",
   "execution_count": 55,
   "metadata": {},
   "outputs": [],
   "source": [
    "from selenium import webdriver\n",
    "import time\n",
    "import json"
   ]
  },
  {
   "cell_type": "code",
   "execution_count": 49,
   "metadata": {},
   "outputs": [],
   "source": [
    "driver = webdriver.Chrome(r'/home/hoantruong/Documents/CrawDataThuoc/chromedriver')"
   ]
  },
  {
   "cell_type": "code",
   "execution_count": 50,
   "metadata": {},
   "outputs": [],
   "source": [
    "listDSThuoc = []"
   ]
  },
  {
   "cell_type": "code",
   "execution_count": 51,
   "metadata": {},
   "outputs": [],
   "source": [
    "for j in range(1, 251):\n",
    "    driver.get('https://drugbank.vn/danh-sach-thuoc?page='+str(j)+'&size=20&sort=tenThuoc,asc')\n",
    "    time.sleep(1)\n",
    "    listDSThuocInCurrentPage = driver.find_elements_by_css_selector('div.card.border-0 tbody tr')\n",
    "    for i in listDSThuocInCurrentPage:\n",
    "        dic = {}\n",
    "        listTd = i.find_elements_by_css_selector('td')\n",
    "        try:\n",
    "            dic[\"id\"] = listTd[0].text\n",
    "        except:\n",
    "            pass\n",
    "        try:\n",
    "            dic[\"country\"] = listTd[4].text\n",
    "        except:\n",
    "            pass\n",
    "        listDSThuoc.append(dic)\n",
    "\n",
    "\n",
    "    "
   ]
  },
  {
   "cell_type": "code",
   "execution_count": 53,
   "metadata": {},
   "outputs": [
    {
     "data": {
      "text/plain": [
       "4960"
      ]
     },
     "execution_count": 53,
     "metadata": {},
     "output_type": "execute_result"
    }
   ],
   "source": [
    "len(listDSThuoc)"
   ]
  },
  {
   "cell_type": "code",
   "execution_count": 58,
   "metadata": {},
   "outputs": [],
   "source": [
    "with open(\"dataCountry.json\",\"w\", encoding='utf-8') as jsonfile:\n",
    "    json.dump(listDSThuoc,jsonfile,ensure_ascii=False)"
   ]
  },
  {
   "cell_type": "code",
   "execution_count": null,
   "metadata": {},
   "outputs": [],
   "source": []
  }
 ],
 "metadata": {
  "kernelspec": {
   "display_name": "Python 3",
   "language": "python",
   "name": "python3"
  },
  "language_info": {
   "codemirror_mode": {
    "name": "ipython",
    "version": 3
   },
   "file_extension": ".py",
   "mimetype": "text/x-python",
   "name": "python",
   "nbconvert_exporter": "python",
   "pygments_lexer": "ipython3",
   "version": "3.8.5"
  }
 },
 "nbformat": 4,
 "nbformat_minor": 4
}
